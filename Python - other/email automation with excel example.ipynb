{
 "cells": [
  {
   "cell_type": "code",
   "execution_count": 1,
   "id": "524fb4ef",
   "metadata": {},
   "outputs": [],
   "source": [
    "import smtplib\n",
    "from email.mime.multipart import MIMEMultipart\n",
    "from email.mime.base import MIMEBase\n",
    "from email.mime.text import MIMEText\n",
    "from email.utils import formatdate\n",
    "from email import encoders\n",
    "\n",
    "import pandas as pd\n",
    "import numpy as np\n",
    "from clickhouse_driver import Client\n",
    "import clickhouse_connect as cc\n",
    "import sqlalchemy\n",
    "import matplotlib.pyplot as plt\n",
    "import seaborn as sns\n",
    "import itertools\n",
    "import tqdm\n",
    "from datetime import datetime, timedelta\n",
    "import time"
   ]
  },
  {
   "cell_type": "code",
   "execution_count": 2,
   "id": "cf4f3864",
   "metadata": {},
   "outputs": [],
   "source": [
    "ds = datetime.now() + timedelta(hours=5)"
   ]
  },
  {
   "cell_type": "code",
   "execution_count": 3,
   "id": "f37d3eae",
   "metadata": {},
   "outputs": [],
   "source": [
    "import yaml\n",
    "with open('C:\\\\Users\\\\ngro\\\\Jupyter Files\\\\pass.yaml', 'r') as stream:\n",
    "    try:\n",
    "        parsed_yaml=yaml.safe_load_all(stream)\n",
    "        for key in parsed_yaml:\n",
    "            pass_dict = key\n",
    "    except yaml.YAMLError as exc:\n",
    "        print(exc)"
   ]
  },
  {
   "cell_type": "code",
   "execution_count": 4,
   "id": "d82ca8c8",
   "metadata": {},
   "outputs": [],
   "source": [
    "# Connection to DB\n",
    "client = cc.get_client(host=pass_dict['clickhouse_host'], port=pass_dict['clickhouse_port'], username='nikolai_gromov', password=pass_dict['personal_clickhouse'])"
   ]
  },
  {
   "cell_type": "code",
   "execution_count": 6,
   "id": "f040ce52",
   "metadata": {},
   "outputs": [
    {
     "data": {
      "text/html": [
       "<div>\n",
       "<style scoped>\n",
       "    .dataframe tbody tr th:only-of-type {\n",
       "        vertical-align: middle;\n",
       "    }\n",
       "\n",
       "    .dataframe tbody tr th {\n",
       "        vertical-align: top;\n",
       "    }\n",
       "\n",
       "    .dataframe thead th {\n",
       "        text-align: right;\n",
       "    }\n",
       "</style>\n",
       "<table border=\"1\" class=\"dataframe\">\n",
       "  <thead>\n",
       "    <tr style=\"text-align: right;\">\n",
       "      <th></th>\n",
       "      <th>example</th>\n",
       "    </tr>\n",
       "  </thead>\n",
       "  <tbody>\n",
       "    <tr>\n",
       "      <th>0</th>\n",
       "      <td>1</td>\n",
       "    </tr>\n",
       "  </tbody>\n",
       "</table>\n",
       "</div>"
      ],
      "text/plain": [
       "   example\n",
       "0        1"
      ]
     },
     "execution_count": 6,
     "metadata": {},
     "output_type": "execute_result"
    }
   ],
   "source": [
    "#Getting data\n",
    "query = f'''\n",
    "    SELECT 1 as example\n",
    "        '''\n",
    "df_res = client.query_df(query)\n",
    "df_res"
   ]
  },
  {
   "cell_type": "code",
   "execution_count": 7,
   "id": "d1b1ba34",
   "metadata": {},
   "outputs": [
    {
     "name": "stdout",
     "output_type": "stream",
     "text": [
      "email success\n"
     ]
    }
   ],
   "source": [
    "# Email header\n",
    "emailfrom = pass_dict['email']\n",
    "password = pass_dict['email_password']\n",
    "msg = MIMEMultipart()\n",
    "msg[\"From\"] = emailfrom\n",
    "msg[\"To\"] = 'example@receiver.kz'\n",
    "msg['Subject'] = f'Клиенты в просрочке 1-30 по {ds}'\n",
    "msg.attach(MIMEText('Текст письма'))\n",
    "\n",
    "# Attaching excel-file\n",
    "df_res.to_excel('somedata.xlsx')\n",
    "part = MIMEBase('application', \"octet-stream\")\n",
    "part.set_payload(open(\"somedata.xlsx\", \"rb\").read())\n",
    "encoders.encode_base64(part)\n",
    "part.add_header('Content-Disposition', 'attachment; filename=\"somedata.xlsx\"')\n",
    "msg.attach(part)\n",
    "\n",
    "#context = ssl.SSLContext(ssl.PROTOCOL_SSLv3)\n",
    "#SSL connection only working on Python 3+\n",
    "smtp = smtplib.SMTP(\"smtp.gmail.com:587\")\n",
    "smtp.starttls()\n",
    "smtp.login(emailfrom,password)\n",
    "smtp.sendmail(emailfrom, ['example@receiver.kz'], msg.as_string())\n",
    "smtp.quit()\n",
    "print('email success')"
   ]
  },
  {
   "cell_type": "code",
   "execution_count": null,
   "id": "29bb3125",
   "metadata": {},
   "outputs": [],
   "source": []
  }
 ],
 "metadata": {
  "kernelspec": {
   "display_name": "Python 3 (ipykernel)",
   "language": "python",
   "name": "python3"
  },
  "language_info": {
   "codemirror_mode": {
    "name": "ipython",
    "version": 3
   },
   "file_extension": ".py",
   "mimetype": "text/x-python",
   "name": "python",
   "nbconvert_exporter": "python",
   "pygments_lexer": "ipython3",
   "version": "3.10.9"
  }
 },
 "nbformat": 4,
 "nbformat_minor": 5
}
