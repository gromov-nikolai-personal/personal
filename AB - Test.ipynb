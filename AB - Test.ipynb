{
 "cells": [
  {
   "cell_type": "code",
   "execution_count": 1,
   "id": "dfa2d93b",
   "metadata": {},
   "outputs": [],
   "source": [
    "import pandas as pd\n",
    "import numpy as np\n",
    "import matplotlib.pyplot as plt\n",
    "import seaborn as sns"
   ]
  },
  {
   "cell_type": "markdown",
   "id": "43739067",
   "metadata": {},
   "source": [
    "### Об эксперименте\n",
    "Гипотезы, на что мог повлиять эксперимент:\n",
    "1. Конверсия в разовое пожертвование - пользователя не отталкивает предустановленная сумма и он охотнее делает пожертвование \n",
    "2. Средняя сумма пожертвования - как разового, так и на платящего пользователя или просто на пользователя. В нашем случае корректнее смотреть среднюю сумму пожертвования на пользователя (ARPU), так как сумма одного пожертвования может снизиться, но за счет роста конверсии доход с пользователя вырастет\n",
    "Как следствие из предыдущих пунктов, конверсию можно не считать, так как ее динамика уже заложена в ARPU, но при этом подсчете большего числа метрик придется делать поправки на множественное сравнение, что снизит мощность эксперимента. В целом по результатам эксперимента стоит посмотреть и ARPPU, и конверсию в разовый платеж, но скорее для генерации инсайтов, и не считать по ним статзначимость и не делать поправки на МПГ\n",
    "3. Кажется, что прирост конверсии и ARPU с разового платежа не обязательно приведет к росту выручки в целом, так как это может быть следствием каннибализации пользователей, которые могли бы оформить подписку на донации. Поэтому в качестве гардрейл метрики надо добавить конверсию в подписку на донации - она не должна упасть\n",
    "\n",
    "Далее посмотрим, что за данные вообще есть в наличии"
   ]
  },
  {
   "cell_type": "code",
   "execution_count": 2,
   "id": "07c4ac63",
   "metadata": {},
   "outputs": [
    {
     "data": {
      "text/html": [
       "<div>\n",
       "<style scoped>\n",
       "    .dataframe tbody tr th:only-of-type {\n",
       "        vertical-align: middle;\n",
       "    }\n",
       "\n",
       "    .dataframe tbody tr th {\n",
       "        vertical-align: top;\n",
       "    }\n",
       "\n",
       "    .dataframe thead th {\n",
       "        text-align: right;\n",
       "    }\n",
       "</style>\n",
       "<table border=\"1\" class=\"dataframe\">\n",
       "  <thead>\n",
       "    <tr style=\"text-align: right;\">\n",
       "      <th></th>\n",
       "      <th>ClientID</th>\n",
       "      <th>EventTime</th>\n",
       "      <th>EventType</th>\n",
       "      <th>DonationType</th>\n",
       "      <th>AmountInUSD</th>\n",
       "      <th>tag</th>\n",
       "    </tr>\n",
       "  </thead>\n",
       "  <tbody>\n",
       "    <tr>\n",
       "      <th>0</th>\n",
       "      <td>885410877</td>\n",
       "      <td>2022-07-20 00:00:23</td>\n",
       "      <td>checkoutView</td>\n",
       "      <td>NaN</td>\n",
       "      <td>NaN</td>\n",
       "      <td>control</td>\n",
       "    </tr>\n",
       "    <tr>\n",
       "      <th>1</th>\n",
       "      <td>859319263</td>\n",
       "      <td>2022-07-20 00:00:48</td>\n",
       "      <td>checkoutView</td>\n",
       "      <td>NaN</td>\n",
       "      <td>NaN</td>\n",
       "      <td>test</td>\n",
       "    </tr>\n",
       "    <tr>\n",
       "      <th>2</th>\n",
       "      <td>480984859</td>\n",
       "      <td>2022-07-20 00:00:58</td>\n",
       "      <td>checkoutView</td>\n",
       "      <td>NaN</td>\n",
       "      <td>NaN</td>\n",
       "      <td>control</td>\n",
       "    </tr>\n",
       "    <tr>\n",
       "      <th>3</th>\n",
       "      <td>204664871</td>\n",
       "      <td>2022-07-20 00:01:00</td>\n",
       "      <td>checkoutView</td>\n",
       "      <td>NaN</td>\n",
       "      <td>NaN</td>\n",
       "      <td>test</td>\n",
       "    </tr>\n",
       "    <tr>\n",
       "      <th>4</th>\n",
       "      <td>859319263</td>\n",
       "      <td>2022-07-20 00:01:05</td>\n",
       "      <td>checkoutView</td>\n",
       "      <td>NaN</td>\n",
       "      <td>NaN</td>\n",
       "      <td>test</td>\n",
       "    </tr>\n",
       "    <tr>\n",
       "      <th>...</th>\n",
       "      <td>...</td>\n",
       "      <td>...</td>\n",
       "      <td>...</td>\n",
       "      <td>...</td>\n",
       "      <td>...</td>\n",
       "      <td>...</td>\n",
       "    </tr>\n",
       "    <tr>\n",
       "      <th>58765</th>\n",
       "      <td>244210529</td>\n",
       "      <td>2022-07-27 00:00:12</td>\n",
       "      <td>charge</td>\n",
       "      <td>one-time</td>\n",
       "      <td>62.0</td>\n",
       "      <td>NaN</td>\n",
       "    </tr>\n",
       "    <tr>\n",
       "      <th>58766</th>\n",
       "      <td>920234036</td>\n",
       "      <td>2022-07-27 00:02:47</td>\n",
       "      <td>charge</td>\n",
       "      <td>one-time</td>\n",
       "      <td>110.0</td>\n",
       "      <td>NaN</td>\n",
       "    </tr>\n",
       "    <tr>\n",
       "      <th>58767</th>\n",
       "      <td>450325260</td>\n",
       "      <td>2022-07-27 00:03:55</td>\n",
       "      <td>charge</td>\n",
       "      <td>one-time</td>\n",
       "      <td>32.0</td>\n",
       "      <td>NaN</td>\n",
       "    </tr>\n",
       "    <tr>\n",
       "      <th>58768</th>\n",
       "      <td>450325260</td>\n",
       "      <td>2022-07-27 00:04:09</td>\n",
       "      <td>checkoutView</td>\n",
       "      <td>NaN</td>\n",
       "      <td>NaN</td>\n",
       "      <td>control</td>\n",
       "    </tr>\n",
       "    <tr>\n",
       "      <th>58769</th>\n",
       "      <td>450325260</td>\n",
       "      <td>2022-07-27 00:06:29</td>\n",
       "      <td>charge</td>\n",
       "      <td>one-time</td>\n",
       "      <td>38.0</td>\n",
       "      <td>NaN</td>\n",
       "    </tr>\n",
       "  </tbody>\n",
       "</table>\n",
       "<p>58770 rows × 6 columns</p>\n",
       "</div>"
      ],
      "text/plain": [
       "        ClientID            EventTime     EventType DonationType  AmountInUSD  \\\n",
       "0      885410877  2022-07-20 00:00:23  checkoutView          NaN          NaN   \n",
       "1      859319263  2022-07-20 00:00:48  checkoutView          NaN          NaN   \n",
       "2      480984859  2022-07-20 00:00:58  checkoutView          NaN          NaN   \n",
       "3      204664871  2022-07-20 00:01:00  checkoutView          NaN          NaN   \n",
       "4      859319263  2022-07-20 00:01:05  checkoutView          NaN          NaN   \n",
       "...          ...                  ...           ...          ...          ...   \n",
       "58765  244210529  2022-07-27 00:00:12        charge     one-time         62.0   \n",
       "58766  920234036  2022-07-27 00:02:47        charge     one-time        110.0   \n",
       "58767  450325260  2022-07-27 00:03:55        charge     one-time         32.0   \n",
       "58768  450325260  2022-07-27 00:04:09  checkoutView          NaN          NaN   \n",
       "58769  450325260  2022-07-27 00:06:29        charge     one-time         38.0   \n",
       "\n",
       "           tag  \n",
       "0      control  \n",
       "1         test  \n",
       "2      control  \n",
       "3         test  \n",
       "4         test  \n",
       "...        ...  \n",
       "58765      NaN  \n",
       "58766      NaN  \n",
       "58767      NaN  \n",
       "58768  control  \n",
       "58769      NaN  \n",
       "\n",
       "[58770 rows x 6 columns]"
      ]
     },
     "execution_count": 2,
     "metadata": {},
     "output_type": "execute_result"
    }
   ],
   "source": [
    "df = pd.read_csv('test.csv')\n",
    "df"
   ]
  },
  {
   "cell_type": "markdown",
   "id": "53e9d53b",
   "metadata": {},
   "source": [
    "Сразу видны пропуски в названиях группы. Они встречаются у событий типа charge. Соответственно, надо преобразовать датафрейм"
   ]
  },
  {
   "cell_type": "code",
   "execution_count": 3,
   "id": "cc6d58ae",
   "metadata": {},
   "outputs": [
    {
     "data": {
      "text/plain": [
       "0    checkoutView\n",
       "Name: EventType, dtype: object"
      ]
     },
     "execution_count": 3,
     "metadata": {},
     "output_type": "execute_result"
    }
   ],
   "source": [
    "df[df['DonationType'].isna()]['EventType'].drop_duplicates()"
   ]
  },
  {
   "cell_type": "markdown",
   "id": "07e80d95",
   "metadata": {},
   "source": [
    "Выше проверил на наличие технических ошибок из формата что в событии charge почему-то не проставился donationType и как следствие нельзя нормально посчитать конверсию"
   ]
  },
  {
   "cell_type": "code",
   "execution_count": 4,
   "id": "2413212b",
   "metadata": {},
   "outputs": [
    {
     "data": {
      "text/plain": [
       "0    checkoutView\n",
       "Name: EventType, dtype: object"
      ]
     },
     "execution_count": 4,
     "metadata": {},
     "output_type": "execute_result"
    }
   ],
   "source": [
    "df[df['AmountInUSD'].isna()]['EventType'].drop_duplicates()"
   ]
  },
  {
   "cell_type": "markdown",
   "id": "fd37b53c",
   "metadata": {},
   "source": [
    "Аналогично проверил для суммы пожертвований, что можно нормально считать денежные метрики"
   ]
  },
  {
   "cell_type": "code",
   "execution_count": 5,
   "id": "973568f8",
   "metadata": {},
   "outputs": [
    {
     "data": {
      "text/html": [
       "<div>\n",
       "<style scoped>\n",
       "    .dataframe tbody tr th:only-of-type {\n",
       "        vertical-align: middle;\n",
       "    }\n",
       "\n",
       "    .dataframe tbody tr th {\n",
       "        vertical-align: top;\n",
       "    }\n",
       "\n",
       "    .dataframe thead th {\n",
       "        text-align: right;\n",
       "    }\n",
       "</style>\n",
       "<table border=\"1\" class=\"dataframe\">\n",
       "  <thead>\n",
       "    <tr style=\"text-align: right;\">\n",
       "      <th></th>\n",
       "      <th>ClientID</th>\n",
       "      <th>tag</th>\n",
       "      <th>EventTime_x</th>\n",
       "      <th>DonationType</th>\n",
       "      <th>EventTime_y</th>\n",
       "      <th>AmountInUSD</th>\n",
       "    </tr>\n",
       "  </thead>\n",
       "  <tbody>\n",
       "    <tr>\n",
       "      <th>0</th>\n",
       "      <td>100015892</td>\n",
       "      <td>test</td>\n",
       "      <td>2022-07-25 12:25:05</td>\n",
       "      <td>NaN</td>\n",
       "      <td>NaN</td>\n",
       "      <td>NaN</td>\n",
       "    </tr>\n",
       "    <tr>\n",
       "      <th>1</th>\n",
       "      <td>100032769</td>\n",
       "      <td>test</td>\n",
       "      <td>2022-07-25 19:52:33</td>\n",
       "      <td>NaN</td>\n",
       "      <td>NaN</td>\n",
       "      <td>NaN</td>\n",
       "    </tr>\n",
       "    <tr>\n",
       "      <th>2</th>\n",
       "      <td>100062684</td>\n",
       "      <td>test</td>\n",
       "      <td>2022-07-23 23:43:11</td>\n",
       "      <td>NaN</td>\n",
       "      <td>NaN</td>\n",
       "      <td>NaN</td>\n",
       "    </tr>\n",
       "    <tr>\n",
       "      <th>3</th>\n",
       "      <td>100085444</td>\n",
       "      <td>test</td>\n",
       "      <td>2022-07-25 02:33:12</td>\n",
       "      <td>one-time</td>\n",
       "      <td>2022-07-25 02:36:02</td>\n",
       "      <td>10.0</td>\n",
       "    </tr>\n",
       "    <tr>\n",
       "      <th>4</th>\n",
       "      <td>100140690</td>\n",
       "      <td>control</td>\n",
       "      <td>2022-07-20 14:24:17</td>\n",
       "      <td>NaN</td>\n",
       "      <td>NaN</td>\n",
       "      <td>NaN</td>\n",
       "    </tr>\n",
       "    <tr>\n",
       "      <th>...</th>\n",
       "      <td>...</td>\n",
       "      <td>...</td>\n",
       "      <td>...</td>\n",
       "      <td>...</td>\n",
       "      <td>...</td>\n",
       "      <td>...</td>\n",
       "    </tr>\n",
       "    <tr>\n",
       "      <th>42256</th>\n",
       "      <td>999815194</td>\n",
       "      <td>test</td>\n",
       "      <td>2022-07-21 04:20:07</td>\n",
       "      <td>NaN</td>\n",
       "      <td>NaN</td>\n",
       "      <td>NaN</td>\n",
       "    </tr>\n",
       "    <tr>\n",
       "      <th>42257</th>\n",
       "      <td>999823250</td>\n",
       "      <td>test</td>\n",
       "      <td>2022-07-22 19:12:32</td>\n",
       "      <td>NaN</td>\n",
       "      <td>NaN</td>\n",
       "      <td>NaN</td>\n",
       "    </tr>\n",
       "    <tr>\n",
       "      <th>42258</th>\n",
       "      <td>999827499</td>\n",
       "      <td>test</td>\n",
       "      <td>2022-07-24 18:31:41</td>\n",
       "      <td>NaN</td>\n",
       "      <td>NaN</td>\n",
       "      <td>NaN</td>\n",
       "    </tr>\n",
       "    <tr>\n",
       "      <th>42259</th>\n",
       "      <td>999962363</td>\n",
       "      <td>test</td>\n",
       "      <td>2022-07-21 21:55:15</td>\n",
       "      <td>NaN</td>\n",
       "      <td>NaN</td>\n",
       "      <td>NaN</td>\n",
       "    </tr>\n",
       "    <tr>\n",
       "      <th>42260</th>\n",
       "      <td>999996015</td>\n",
       "      <td>control</td>\n",
       "      <td>2022-07-21 11:07:24</td>\n",
       "      <td>NaN</td>\n",
       "      <td>NaN</td>\n",
       "      <td>NaN</td>\n",
       "    </tr>\n",
       "  </tbody>\n",
       "</table>\n",
       "<p>42261 rows × 6 columns</p>\n",
       "</div>"
      ],
      "text/plain": [
       "        ClientID      tag          EventTime_x DonationType  \\\n",
       "0      100015892     test  2022-07-25 12:25:05          NaN   \n",
       "1      100032769     test  2022-07-25 19:52:33          NaN   \n",
       "2      100062684     test  2022-07-23 23:43:11          NaN   \n",
       "3      100085444     test  2022-07-25 02:33:12     one-time   \n",
       "4      100140690  control  2022-07-20 14:24:17          NaN   \n",
       "...          ...      ...                  ...          ...   \n",
       "42256  999815194     test  2022-07-21 04:20:07          NaN   \n",
       "42257  999823250     test  2022-07-22 19:12:32          NaN   \n",
       "42258  999827499     test  2022-07-24 18:31:41          NaN   \n",
       "42259  999962363     test  2022-07-21 21:55:15          NaN   \n",
       "42260  999996015  control  2022-07-21 11:07:24          NaN   \n",
       "\n",
       "               EventTime_y  AmountInUSD  \n",
       "0                      NaN          NaN  \n",
       "1                      NaN          NaN  \n",
       "2                      NaN          NaN  \n",
       "3      2022-07-25 02:36:02         10.0  \n",
       "4                      NaN          NaN  \n",
       "...                    ...          ...  \n",
       "42256                  NaN          NaN  \n",
       "42257                  NaN          NaN  \n",
       "42258                  NaN          NaN  \n",
       "42259                  NaN          NaN  \n",
       "42260                  NaN          NaN  \n",
       "\n",
       "[42261 rows x 6 columns]"
      ]
     },
     "execution_count": 5,
     "metadata": {},
     "output_type": "execute_result"
    }
   ],
   "source": [
    "df_funnel = pd.merge(\n",
    "    df[df['EventType'] == 'checkoutView'].groupby(['ClientID', 'tag'], as_index=False).agg({'EventTime':'min'}),\n",
    "    df[df['EventType'] == 'charge'].groupby(['ClientID', 'DonationType'], as_index=False).agg({'EventTime':'min', 'AmountInUSD':'sum'}),\n",
    "    how='left',\n",
    "    on='ClientID'\n",
    ")\n",
    "df_funnel"
   ]
  },
  {
   "cell_type": "markdown",
   "id": "c91703e9",
   "metadata": {},
   "source": [
    "Проверим, что лишнего не отфильтровал и не задублировал"
   ]
  },
  {
   "cell_type": "code",
   "execution_count": 6,
   "id": "001eda72",
   "metadata": {},
   "outputs": [
    {
     "data": {
      "text/plain": [
       "True"
      ]
     },
     "execution_count": 6,
     "metadata": {},
     "output_type": "execute_result"
    }
   ],
   "source": [
    "df['ClientID'].nunique() == df_funnel['ClientID'].nunique()"
   ]
  },
  {
   "cell_type": "code",
   "execution_count": 7,
   "id": "5d8d67ce",
   "metadata": {},
   "outputs": [
    {
     "data": {
      "text/plain": [
       "True"
      ]
     },
     "execution_count": 7,
     "metadata": {},
     "output_type": "execute_result"
    }
   ],
   "source": [
    "df['AmountInUSD'].sum() == df_funnel['AmountInUSD'].sum()"
   ]
  },
  {
   "cell_type": "markdown",
   "id": "53de757e",
   "metadata": {},
   "source": [
    "Теперь заполняю пропуски, делаю вычисляемые поля"
   ]
  },
  {
   "cell_type": "code",
   "execution_count": 8,
   "id": "987f6f96",
   "metadata": {},
   "outputs": [],
   "source": [
    "df_funnel.loc[df_funnel['DonationType'] == 'one-time', 'has_donation_one_time'] = 1\n",
    "df_funnel.loc[df_funnel['DonationType'] == 'recurring', 'has_donation_recurring'] = 1"
   ]
  },
  {
   "cell_type": "code",
   "execution_count": 9,
   "id": "9d683fbd",
   "metadata": {},
   "outputs": [],
   "source": [
    "df_funnel.loc[df_funnel['DonationType'] == 'one-time', 'ARPU_one_time'] = df_funnel.loc[df_funnel['DonationType'] == 'one-time', 'AmountInUSD']"
   ]
  },
  {
   "cell_type": "code",
   "execution_count": 10,
   "id": "9778467c",
   "metadata": {},
   "outputs": [],
   "source": [
    "df_funnel.fillna(0, inplace=True)"
   ]
  },
  {
   "cell_type": "markdown",
   "id": "da70d3fe",
   "metadata": {},
   "source": [
    "### Метрики\n",
    "В итоге можем корректно посчитать и буду считать следующие метрики:\n",
    "1. ARPU разового платежа (не учитываю сумму с подписок на донации, так как там скорее речь про LTV, который посчитать на этих данных нельзя)\n",
    "2. Гардрейл метрика - конверсия в подписку на донации\n",
    "\n",
    "Перейдем к самим данным и посмотрим, какие критерии можно применить"
   ]
  },
  {
   "cell_type": "code",
   "execution_count": 11,
   "id": "4ca70f2f",
   "metadata": {},
   "outputs": [
    {
     "data": {
      "text/html": [
       "<div>\n",
       "<style scoped>\n",
       "    .dataframe tbody tr th:only-of-type {\n",
       "        vertical-align: middle;\n",
       "    }\n",
       "\n",
       "    .dataframe tbody tr th {\n",
       "        vertical-align: top;\n",
       "    }\n",
       "\n",
       "    .dataframe thead th {\n",
       "        text-align: right;\n",
       "    }\n",
       "</style>\n",
       "<table border=\"1\" class=\"dataframe\">\n",
       "  <thead>\n",
       "    <tr style=\"text-align: right;\">\n",
       "      <th></th>\n",
       "      <th>has_donation_recurring</th>\n",
       "      <th>ARPU_one_time</th>\n",
       "    </tr>\n",
       "    <tr>\n",
       "      <th>tag</th>\n",
       "      <th></th>\n",
       "      <th></th>\n",
       "    </tr>\n",
       "  </thead>\n",
       "  <tbody>\n",
       "    <tr>\n",
       "      <th>control</th>\n",
       "      <td>0.004917</td>\n",
       "      <td>9.411025</td>\n",
       "    </tr>\n",
       "    <tr>\n",
       "      <th>test</th>\n",
       "      <td>0.003363</td>\n",
       "      <td>10.101805</td>\n",
       "    </tr>\n",
       "  </tbody>\n",
       "</table>\n",
       "</div>"
      ],
      "text/plain": [
       "         has_donation_recurring  ARPU_one_time\n",
       "tag                                           \n",
       "control                0.004917       9.411025\n",
       "test                   0.003363      10.101805"
      ]
     },
     "execution_count": 11,
     "metadata": {},
     "output_type": "execute_result"
    }
   ],
   "source": [
    "df_funnel.groupby('tag').agg({'has_donation_recurring':'mean', 'ARPU_one_time':'mean'})"
   ]
  },
  {
   "cell_type": "markdown",
   "id": "b248a590",
   "metadata": {},
   "source": [
    "Видно, что метрика ARPU достаточно сильно выросла, в то время как гардрейл метрика упала. Если про гардрейл метрику говорить особо нечего (она биноминальная), то метрика ARPU непрерывная и ее надо изучить на наличие выбросов и в целом посмотреть ее распределение"
   ]
  },
  {
   "cell_type": "code",
   "execution_count": 12,
   "id": "5f8c4978",
   "metadata": {},
   "outputs": [
    {
     "data": {
      "image/png": "[encoded data removed]",
      "text/plain": [
       "<Figure size 640x480 with 1 Axes>"
      ]
     },
     "metadata": {},
     "output_type": "display_data"
    }
   ],
   "source": [
    "sns.histplot(data=df_funnel.loc[df_funnel['tag'] == 'test'], x='ARPU_one_time', color=\"green\", label='test', kde=True, bins=50)\n",
    "sns.histplot(data=df_funnel.loc[df_funnel['tag'] == 'control'], x='ARPU_one_time', color=\"red\", label='control', kde=True, bins=50)\n",
    "\n",
    "plt.ylabel('Число пользователей')\n",
    "plt.xlabel('Сумма пожертвований')\n",
    "plt.legend() \n",
    "plt.show()"
   ]
  },
  {
   "cell_type": "markdown",
   "id": "3086ff70",
   "metadata": {},
   "source": [
    "На гистограмме виден большой хвост. Следовательно в таком виде через т-критерий метрику оценивать нельзя. Так как выше видно, что среднее в тестовой группе действительно выше контрольной, то можно использовать критерий Манна-Уитни (как минимум это исключает случай, когда по Манну-Уитни есть прирост, а прироста средней на самом деле нет)"
   ]
  },
  {
   "cell_type": "markdown",
   "id": "c6cc1d1a",
   "metadata": {},
   "source": [
    "Итого:\n",
    "1. Для ARPU используем Манна-Уитни\n",
    "2. Для конверсии в подписку на донации используем t-test"
   ]
  },
  {
   "cell_type": "markdown",
   "id": "79ad3587",
   "metadata": {},
   "source": [
    "### Аб-тест"
   ]
  },
  {
   "cell_type": "code",
   "execution_count": 13,
   "id": "1cd4bcb3",
   "metadata": {},
   "outputs": [],
   "source": [
    "from scipy.stats import mannwhitneyu, ttest_ind"
   ]
  },
  {
   "cell_type": "code",
   "execution_count": 14,
   "id": "2174e691",
   "metadata": {},
   "outputs": [],
   "source": [
    "alpha = 0.05\n",
    "num_metrics = 2\n",
    "alpha_corrected = alpha/num_metrics #Применяю поправку Бонферони \n",
    "\n",
    "res = []\n",
    "\n",
    "p_val = mannwhitneyu(\n",
    "    df_funnel.loc[df_funnel['tag'] == 'control', 'ARPU_one_time'],\n",
    "    df_funnel.loc[df_funnel['tag'] == 'test', 'ARPU_one_time'], \n",
    "    alternative='two-sided'\n",
    ")[1]\n",
    "m1, m2 = df_funnel.loc[df_funnel['tag'] == 'control', 'ARPU_one_time'].mean(), df_funnel.loc[df_funnel['tag'] == 'test', 'ARPU_one_time'].mean()\n",
    "\n",
    "metric = ['ARPU_one_time', m1, m2, m2/m1-1, p_val, p_val<=alpha_corrected]\n",
    "res.append(metric)"
   ]
  },
  {
   "cell_type": "code",
   "execution_count": 15,
   "id": "22430c00",
   "metadata": {},
   "outputs": [],
   "source": [
    "p_val = ttest_ind(\n",
    "    df_funnel.loc[df_funnel['tag'] == 'control', 'has_donation_recurring'],\n",
    "    df_funnel.loc[df_funnel['tag'] == 'test', 'has_donation_recurring'], \n",
    "    alternative='two-sided', \n",
    "    equal_var=False\n",
    ")[1]\n",
    "m1, m2 = df_funnel.loc[df_funnel['tag'] == 'control', 'has_donation_recurring'].mean(), df_funnel.loc[df_funnel['tag'] == 'test', 'has_donation_recurring'].mean()\n",
    "\n",
    "metric = ['has_donation_recurring', m1, m2, m2/m1-1, p_val, p_val<=alpha_corrected]\n",
    "res.append(metric)"
   ]
  },
  {
   "cell_type": "code",
   "execution_count": 16,
   "id": "5d44b410",
   "metadata": {},
   "outputs": [
    {
     "data": {
      "text/html": [
       "<div>\n",
       "<style scoped>\n",
       "    .dataframe tbody tr th:only-of-type {\n",
       "        vertical-align: middle;\n",
       "    }\n",
       "\n",
       "    .dataframe tbody tr th {\n",
       "        vertical-align: top;\n",
       "    }\n",
       "\n",
       "    .dataframe thead th {\n",
       "        text-align: right;\n",
       "    }\n",
       "</style>\n",
       "<table border=\"1\" class=\"dataframe\">\n",
       "  <thead>\n",
       "    <tr style=\"text-align: right;\">\n",
       "      <th></th>\n",
       "      <th>metric</th>\n",
       "      <th>control</th>\n",
       "      <th>test</th>\n",
       "      <th>delta</th>\n",
       "      <th>p_value</th>\n",
       "      <th>is_significant</th>\n",
       "    </tr>\n",
       "  </thead>\n",
       "  <tbody>\n",
       "    <tr>\n",
       "      <th>0</th>\n",
       "      <td>ARPU_one_time</td>\n",
       "      <td>9.411025</td>\n",
       "      <td>10.101805</td>\n",
       "      <td>0.073401</td>\n",
       "      <td>0.001955</td>\n",
       "      <td>True</td>\n",
       "    </tr>\n",
       "    <tr>\n",
       "      <th>1</th>\n",
       "      <td>has_donation_recurring</td>\n",
       "      <td>0.004917</td>\n",
       "      <td>0.003363</td>\n",
       "      <td>-0.315917</td>\n",
       "      <td>0.012892</td>\n",
       "      <td>True</td>\n",
       "    </tr>\n",
       "  </tbody>\n",
       "</table>\n",
       "</div>"
      ],
      "text/plain": [
       "                   metric   control       test     delta   p_value  \\\n",
       "0           ARPU_one_time  9.411025  10.101805  0.073401  0.001955   \n",
       "1  has_donation_recurring  0.004917   0.003363 -0.315917  0.012892   \n",
       "\n",
       "   is_significant  \n",
       "0            True  \n",
       "1            True  "
      ]
     },
     "execution_count": 16,
     "metadata": {},
     "output_type": "execute_result"
    }
   ],
   "source": [
    "df_res = pd.DataFrame(res, columns=['metric', 'control', 'test', 'delta', 'p_value', 'is_significant'])\n",
    "df_res"
   ]
  },
  {
   "cell_type": "markdown",
   "id": "f4ea0c4d",
   "metadata": {},
   "source": [
    "Выводы:\n",
    "1. С одной стороны, эксперимент статзначимо на 7.3% прирастил донации на пользователя разовых донаций\n",
    "2. С другой стороны, на -31% упала конверсия в подписку на донации\n",
    "В результате, эксперимент требует дополнительного изучения, так как кажется, что пользователи с подпиской ценнее разовых пользователей. Что можно было бы посмотреть:\n",
    "1. Были ли технические ошибки в тестовой группе, может, некорректно работало переключение\n",
    "2. Вообще такое падение выглядит странно, возможны ли параллельные эксперименты и изменения, которые могли повлиять на поведение пользователя? Точно ли корректно сплитовались пользователи, мб в разные группы попали пользователи с разным поведением \n",
    "3. А мы вообще набрали достаточную выборку, стабилизировался ли p_value? Быть может он не стабилизировался (это можно проверить на текущих данных)\n",
    "4. Другие более детальные гипотезы по событиям или по портртету пользователей"
   ]
  },
  {
   "cell_type": "markdown",
   "id": "ad14d097",
   "metadata": {},
   "source": [
    "### Проверка на стабилизацию p_value по метрике подписки на регулярные донации"
   ]
  },
  {
   "cell_type": "code",
   "execution_count": 17,
   "id": "34944132",
   "metadata": {},
   "outputs": [],
   "source": [
    "df['EventTime'] = pd.to_datetime(df['EventTime'])\n",
    "df['day'] = df['EventTime'].dt.day-19\n",
    "\n",
    "pvals = []\n",
    "\n",
    "for i in range(1, 9):\n",
    "    df_temp = df[df['day'] <= i]\n",
    "    df_check = pd.merge(\n",
    "        df_temp[df_temp['EventType'] == 'checkoutView'].groupby(['ClientID', 'tag'], as_index=False).agg({'EventTime':'min'}),\n",
    "        df_temp[df_temp['EventType'] == 'charge'].groupby(['ClientID', 'DonationType'], as_index=False).agg({'EventTime':'min', 'AmountInUSD':'sum'}),\n",
    "        how='left',\n",
    "        on='ClientID'\n",
    "    )\n",
    "    \n",
    "    df_check.loc[df_check['DonationType'] == 'recurring', 'has_donation_recurring'] = 1\n",
    "    df_check.fillna(0, inplace=True)\n",
    "    \n",
    "    p_val = ttest_ind(\n",
    "        df_check.loc[df_check['tag'] == 'control', 'has_donation_recurring'],\n",
    "        df_check.loc[df_check['tag'] == 'test', 'has_donation_recurring'], \n",
    "        alternative='two-sided', \n",
    "        equal_var=False\n",
    "    )[1]\n",
    "    \n",
    "    pvals.append([i, p_val, df_check.loc[df_check['DonationType'] == 'recurring', 'ClientID'].nunique()])\n",
    "\n",
    "df_pvals = pd.DataFrame(pvals, columns=['day', 'p_val', 'user_num_total'])"
   ]
  },
  {
   "cell_type": "code",
   "execution_count": 18,
   "id": "bd7c2746",
   "metadata": {},
   "outputs": [
    {
     "data": {
      "text/html": [
       "<div>\n",
       "<style scoped>\n",
       "    .dataframe tbody tr th:only-of-type {\n",
       "        vertical-align: middle;\n",
       "    }\n",
       "\n",
       "    .dataframe tbody tr th {\n",
       "        vertical-align: top;\n",
       "    }\n",
       "\n",
       "    .dataframe thead th {\n",
       "        text-align: right;\n",
       "    }\n",
       "</style>\n",
       "<table border=\"1\" class=\"dataframe\">\n",
       "  <thead>\n",
       "    <tr style=\"text-align: right;\">\n",
       "      <th></th>\n",
       "      <th>day</th>\n",
       "      <th>p_val</th>\n",
       "      <th>user_num_total</th>\n",
       "    </tr>\n",
       "  </thead>\n",
       "  <tbody>\n",
       "    <tr>\n",
       "      <th>0</th>\n",
       "      <td>1</td>\n",
       "      <td>0.297218</td>\n",
       "      <td>14</td>\n",
       "    </tr>\n",
       "    <tr>\n",
       "      <th>1</th>\n",
       "      <td>2</td>\n",
       "      <td>0.708926</td>\n",
       "      <td>45</td>\n",
       "    </tr>\n",
       "    <tr>\n",
       "      <th>2</th>\n",
       "      <td>3</td>\n",
       "      <td>0.311735</td>\n",
       "      <td>78</td>\n",
       "    </tr>\n",
       "    <tr>\n",
       "      <th>3</th>\n",
       "      <td>4</td>\n",
       "      <td>0.249761</td>\n",
       "      <td>102</td>\n",
       "    </tr>\n",
       "    <tr>\n",
       "      <th>4</th>\n",
       "      <td>5</td>\n",
       "      <td>0.016423</td>\n",
       "      <td>125</td>\n",
       "    </tr>\n",
       "    <tr>\n",
       "      <th>5</th>\n",
       "      <td>6</td>\n",
       "      <td>0.007901</td>\n",
       "      <td>146</td>\n",
       "    </tr>\n",
       "    <tr>\n",
       "      <th>6</th>\n",
       "      <td>7</td>\n",
       "      <td>0.012881</td>\n",
       "      <td>175</td>\n",
       "    </tr>\n",
       "    <tr>\n",
       "      <th>7</th>\n",
       "      <td>8</td>\n",
       "      <td>0.012892</td>\n",
       "      <td>175</td>\n",
       "    </tr>\n",
       "  </tbody>\n",
       "</table>\n",
       "</div>"
      ],
      "text/plain": [
       "   day     p_val  user_num_total\n",
       "0    1  0.297218              14\n",
       "1    2  0.708926              45\n",
       "2    3  0.311735              78\n",
       "3    4  0.249761             102\n",
       "4    5  0.016423             125\n",
       "5    6  0.007901             146\n",
       "6    7  0.012881             175\n",
       "7    8  0.012892             175"
      ]
     },
     "execution_count": 18,
     "metadata": {},
     "output_type": "execute_result"
    }
   ],
   "source": [
    "df_pvals"
   ]
  },
  {
   "cell_type": "code",
   "execution_count": 19,
   "id": "7123a5e5",
   "metadata": {},
   "outputs": [
    {
     "data": {
      "text/plain": [
       "0.012891732336358664"
      ]
     },
     "execution_count": 19,
     "metadata": {},
     "output_type": "execute_result"
    }
   ],
   "source": [
    "p_val = ttest_ind(\n",
    "    df_funnel.loc[df_funnel['tag'] == 'control', 'has_donation_recurring'],\n",
    "    df_funnel.loc[df_funnel['tag'] == 'test', 'has_donation_recurring'], \n",
    "    alternative='two-sided', \n",
    "    equal_var=False\n",
    ")[1]\n",
    "p_val"
   ]
  },
  {
   "cell_type": "markdown",
   "id": "b2577185",
   "metadata": {},
   "source": [
    "Уже 4 недели метрика держится на уровне менее 0.025 (альфа с поправкой), то есть гипотеза, что мы не набрали выборку, отбрасывается"
   ]
  },
  {
   "cell_type": "code",
   "execution_count": null,
   "id": "af516b04",
   "metadata": {},
   "outputs": [],
   "source": []
  }
 ],
 "metadata": {
  "kernelspec": {
   "display_name": "Python 3 (ipykernel)",
   "language": "python",
   "name": "python3"
  },
  "language_info": {
   "codemirror_mode": {
    "name": "ipython",
    "version": 3
   },
   "file_extension": ".py",
   "mimetype": "text/x-python",
   "name": "python",
   "nbconvert_exporter": "python",
   "pygments_lexer": "ipython3",
   "version": "3.10.9"
  }
 },
 "nbformat": 4,
 "nbformat_minor": 5
}
