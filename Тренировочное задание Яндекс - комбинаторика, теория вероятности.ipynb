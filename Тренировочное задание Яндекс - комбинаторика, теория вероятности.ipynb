{
 "cells": [
  {
   "cell_type": "markdown",
   "id": "70a34c26",
   "metadata": {},
   "source": [
    "#### Комментарий - выкладываю не оптимальное решение, а решение, до которого изначально дошел самостоятельно, чтобы показать ход решения. Могут быть другие более оптимальные решения задачи"
   ]
  },
  {
   "cell_type": "markdown",
   "id": "64e35bb9",
   "metadata": {},
   "source": [
    "1. У вас есть список конфет разных типов, вам нужно собрать одинаковые наборы для своих друзей. Какому максимальному числу друзей вы сможете собрать наборы так, чтобы раздарить все конфеты. Реализуйте функцию на питоне, которая принимает на вход список конфет и отдает максимальное число друзей. Формат входных данных - список строк.\n",
    "ТЕСТ: ['a', 'a', 'a', 'b', 'b', 'b', 'b', 'c', 'c', 'c', 'c', 'c'] ОТВЕТ:1\n",
    "\n",
    "ТЕСТ: ['a', 'b', 'c', 'a', 'b', 'c', 'c', 'c'] ОТВЕТ:2\n",
    "\n",
    "Задание выполните в блокноте Jupyter или воспользуйтесь другим удобным вам инструментом. Результат выполнения задания — код на на Python — сохраните в файле формата .py или .ipynb и укажите ссылку на этот файл."
   ]
  },
  {
   "cell_type": "code",
   "execution_count": 9,
   "id": "52b6e081",
   "metadata": {},
   "outputs": [
    {
     "name": "stdout",
     "output_type": "stream",
     "text": [
      "1\n",
      "2\n",
      "4\n"
     ]
    }
   ],
   "source": [
    "import itertools\n",
    "import math\n",
    "\n",
    "test_cases = [\n",
    "    ['a', 'a', 'a', 'b', 'b', 'b', 'b', 'c', 'c', 'c', 'c', 'c'],\n",
    "    ['a', 'b', 'c', 'a', 'b', 'c', 'c', 'c'],\n",
    "    ['a', 'a', 'a', 'a','b', 'b', 'b', 'b', 'b', 'b', 'b', 'b']\n",
    "]\n",
    "\n",
    "def max_friends(case):\n",
    "    uniq_val = set(case)\n",
    "    type_num_dict = {}\n",
    "    \n",
    "    ### Считаю количество конфет по каждому типу\n",
    "    for x in case:\n",
    "        if x in type_num_dict.keys():\n",
    "            type_num_dict[x] += 1\n",
    "        else:\n",
    "            type_num_dict[x] = 1\n",
    "            \n",
    "    values = list(type_num_dict.values())\n",
    "    \n",
    "    ### Максимальное число конфет = максимальный общий делитель\n",
    "    ### Решение - брутфорс?\n",
    "    min_value = min(values)\n",
    "    \n",
    "    ### Получаем все простые делители минимального значения\n",
    "    multipliers = [1]\n",
    "    rest = min_value\n",
    "    divider = 2\n",
    "    while rest != 1:\n",
    "        if rest % divider == 0:\n",
    "            rest = rest // divider\n",
    "            multipliers.append(divider)\n",
    "            divider = 2\n",
    "        else:\n",
    "            divider += 1\n",
    "            \n",
    "    ### Получаем все возможные составные делители\n",
    "    all_possible_multipliers = []\n",
    "    for r in range(1, len(multipliers) + 1):\n",
    "        combos = list(itertools.combinations(multipliers, r))\n",
    "        \n",
    "        for combo in combos:\n",
    "            all_possible_multipliers.append(math.prod(combo))\n",
    "            \n",
    "    all_possible_multipliers = list(set(all_possible_multipliers))\n",
    "    \n",
    "    ### Проверяем с самого большого до самого малого делителя и ищем первый, на который число всех элементов первого списка делится без остатка\n",
    "    for m in all_possible_multipliers[::-1]:\n",
    "        values_rest = [x % m for x in values]\n",
    "        if max(values_rest) == 0:\n",
    "            return m\n",
    "            break\n",
    "    \n",
    "    \n",
    "for case in test_cases:\n",
    "    friend_num = max_friends(case)\n",
    "    print(friend_num)"
   ]
  },
  {
   "cell_type": "markdown",
   "id": "2b950916",
   "metadata": {},
   "source": [
    "B. MVP Сложная задача\n",
    "\n",
    "Эта задача настолько сложная, что её правильно решают только 5% кандидатов. Более того, даже проводящий собеседование в 2% случаев принимает неверное решение за верное (верные решения он всегда узнаёт). Проводящий собеседование говорит вам, что вы справились с задачей. Какова вероятность в процентах, что вы дали правильный ответ?\n",
    "\n",
    "Формат ввода:\n",
    "Введите ответ в процентах с точностью до двух знаков после точки, без знака %. Разделителем является точка."
   ]
  },
  {
   "cell_type": "code",
   "execution_count": 11,
   "id": "2b5778d8",
   "metadata": {},
   "outputs": [
    {
     "data": {
      "text/plain": [
       "72.46"
      ]
     },
     "execution_count": 11,
     "metadata": {},
     "output_type": "execute_result"
    }
   ],
   "source": [
    "### Вероятность положительного ответа\n",
    "success = 0.05\n",
    "### Вероятность ложнополжительно ответа\n",
    "false_success = 0.02*(1-success)\n",
    "### Вероятность что проводящий скажет, что ответ верный\n",
    "s_fs = success+false_success\n",
    "### Вероятность реально верного ответа\n",
    "round(success/s_fs*100, 2)"
   ]
  },
  {
   "cell_type": "code",
   "execution_count": null,
   "id": "ccc2eefd",
   "metadata": {},
   "outputs": [],
   "source": []
  }
 ],
 "metadata": {
  "kernelspec": {
   "display_name": "Python 3 (ipykernel)",
   "language": "python",
   "name": "python3"
  },
  "language_info": {
   "codemirror_mode": {
    "name": "ipython",
    "version": 3
   },
   "file_extension": ".py",
   "mimetype": "text/x-python",
   "name": "python",
   "nbconvert_exporter": "python",
   "pygments_lexer": "ipython3",
   "version": "3.11.5"
  }
 },
 "nbformat": 4,
 "nbformat_minor": 5
}
