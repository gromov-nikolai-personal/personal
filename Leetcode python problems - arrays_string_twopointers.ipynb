{
 "cells": [
  {
   "cell_type": "code",
   "execution_count": 1,
   "id": "77634f48",
   "metadata": {},
   "outputs": [],
   "source": [
    "import random"
   ]
  },
  {
   "cell_type": "markdown",
   "id": "fb3b8488",
   "metadata": {},
   "source": [
    "### Merge sorted arrays"
   ]
  },
  {
   "cell_type": "code",
   "execution_count": 70,
   "id": "87e4f4c4",
   "metadata": {},
   "outputs": [
    {
     "data": {
      "text/plain": [
       "5"
      ]
     },
     "execution_count": 70,
     "metadata": {},
     "output_type": "execute_result"
    }
   ],
   "source": [
    "nums1 = [1, 2, 3, 0, 0, 0]\n",
    "nums2 = [2, 5, 6]\n",
    "n = 3\n",
    "\n",
    "if n > 0:\n",
    "    nums1[-n:] = nums2\n",
    "    nums1.sort()"
   ]
  },
  {
   "cell_type": "markdown",
   "id": "22e358d7",
   "metadata": {},
   "source": [
    "### Remove element"
   ]
  },
  {
   "cell_type": "code",
   "execution_count": 76,
   "id": "68605a67",
   "metadata": {},
   "outputs": [
    {
     "data": {
      "text/plain": [
       "[2, 2, 2]"
      ]
     },
     "execution_count": 76,
     "metadata": {},
     "output_type": "execute_result"
    }
   ],
   "source": [
    "nums = [2, 3, 2, 2]\n",
    "val = 3\n",
    "nums[:] = [x for x in nums if x != val]"
   ]
  },
  {
   "cell_type": "markdown",
   "id": "72f79fed",
   "metadata": {},
   "source": [
    "### Remove duplicates from array I"
   ]
  },
  {
   "cell_type": "code",
   "execution_count": 81,
   "id": "a8cceb11",
   "metadata": {},
   "outputs": [
    {
     "data": {
      "text/plain": [
       "[1, 2]"
      ]
     },
     "execution_count": 81,
     "metadata": {},
     "output_type": "execute_result"
    }
   ],
   "source": [
    "nums = [1, 1, 2]\n",
    "nums[:-1] = [nums[i] for i in range(len(nums)-1) if nums[i] != nums[i+1]]\n",
    "if nums[-1] in nums[:-1]:\n",
    "    del nums[-1]"
   ]
  },
  {
   "cell_type": "code",
   "execution_count": 83,
   "id": "932c8d8f",
   "metadata": {},
   "outputs": [
    {
     "data": {
      "text/plain": [
       "[1, 2]"
      ]
     },
     "execution_count": 83,
     "metadata": {},
     "output_type": "execute_result"
    }
   ],
   "source": [
    "nums[:] = sorted(list(set(nums))) #чуть лучше по перфу"
   ]
  },
  {
   "cell_type": "markdown",
   "id": "3dd23c49",
   "metadata": {},
   "source": [
    "### Remove duplicates from array II"
   ]
  },
  {
   "cell_type": "code",
   "execution_count": 91,
   "id": "f73a03c3",
   "metadata": {},
   "outputs": [
    {
     "data": {
      "text/plain": [
       "[1, 1, 2, 2, 3]"
      ]
     },
     "execution_count": 91,
     "metadata": {},
     "output_type": "execute_result"
    }
   ],
   "source": [
    "nums = [1,1,1,2,2,3]\n",
    "nums[:] = [nums[i] for i in range(len(nums)) if nums[:i].count(nums[i]) <= 1]\n",
    "nums"
   ]
  },
  {
   "cell_type": "markdown",
   "id": "7e039009",
   "metadata": {},
   "source": [
    "### Majority element (that appeares more then n/2 times)"
   ]
  },
  {
   "cell_type": "code",
   "execution_count": 96,
   "id": "9f6a7ba0",
   "metadata": {},
   "outputs": [
    {
     "data": {
      "text/plain": [
       "3"
      ]
     },
     "execution_count": 96,
     "metadata": {},
     "output_type": "execute_result"
    }
   ],
   "source": [
    "nums = [3, 2, 3]\n",
    "nums_nd = set(nums)\n",
    "l = len(nums)/2\n",
    "mn = 0\n",
    "\n",
    "for n in nums_nd:\n",
    "    if nums.count(n) >= l:\n",
    "        mn = n\n",
    "        break\n",
    "\n",
    "mn"
   ]
  },
  {
   "cell_type": "markdown",
   "id": "9ac5baab",
   "metadata": {},
   "source": [
    "### Rotate array"
   ]
  },
  {
   "cell_type": "code",
   "execution_count": 3,
   "id": "e08654eb",
   "metadata": {},
   "outputs": [
    {
     "name": "stdout",
     "output_type": "stream",
     "text": [
      "[5, 6, 7, 1, 2, 3, 4]\n"
     ]
    }
   ],
   "source": [
    "nums = [1,2,3,4,5,6,7]\n",
    "k = 3\n",
    "k = k%len(nums)\n",
    "nums[:] = nums[-k:] + nums[:-k]\n",
    "print(nums)"
   ]
  },
  {
   "cell_type": "markdown",
   "id": "51d74068",
   "metadata": {},
   "source": [
    "### Candy"
   ]
  },
  {
   "cell_type": "code",
   "execution_count": 88,
   "id": "270411d2",
   "metadata": {},
   "outputs": [
    {
     "name": "stdout",
     "output_type": "stream",
     "text": [
      "[0, -1, -1, 0, 1, 1, 0]\n"
     ]
    },
    {
     "data": {
      "text/plain": [
       "13"
      ]
     },
     "execution_count": 88,
     "metadata": {},
     "output_type": "execute_result"
    }
   ],
   "source": [
    "#My solution - timeout exceeded\n",
    "ratings = [1,2,87,87,87,2,1] #[29,51,87,87,72,12] #\n",
    "#ratings = [1,3,4,5,2]\n",
    "top = sorted(list(set(ratings)))\n",
    "ratings[:] = [1 + top.index(x) for x in ratings]\n",
    "ratings[:] = [2\n",
    "       if ratings[x] > ratings[max(x-1, 0)] and ratings[x] > ratings[min(x+1, len(ratings)-1)]\n",
    "        else 1 if ratings[x] > ratings[min(x+1, len(ratings)-1)]\n",
    "        else -1 if ratings[x] > ratings[max(x-1, 0)]\n",
    "        else 0\n",
    "       for x in range(len(ratings))]\n",
    "res = [1 if ratings[x] == 0 else 0 for x in range(len(ratings))]\n",
    "while 0 in res:\n",
    "    for i in range(len(res)):\n",
    "        if ratings[i] != 0 and ratings[i] != 2 and res[i+ratings[i]] != 0  and res[i] == 0:\n",
    "            res[i] = res[i+ratings[i]] + 1\n",
    "        elif ratings[i] == 2 and res[i+1] != 0 and res[i-1] != 0:\n",
    "            res[i] = max(res[i+1], res[i-1]) + 1\n",
    "sum(res)"
   ]
  },
  {
   "cell_type": "code",
   "execution_count": 109,
   "id": "5d6f8749",
   "metadata": {},
   "outputs": [
    {
     "data": {
      "text/plain": [
       "7"
      ]
     },
     "execution_count": 109,
     "metadata": {},
     "output_type": "execute_result"
    }
   ],
   "source": [
    "#Correct solution\n",
    "ratings = [1,3,2,2,1]\n",
    "n = len(ratings)\n",
    "\n",
    "candies = [1]*n\n",
    "for i in range(1, n):\n",
    "    if ratings[i] > ratings[i-1]:\n",
    "        candies[i] = candies[i+1]+1\n",
    "\n",
    "for i in range(n-2, -1, -1):\n",
    "    if ratings[i] > ratings[i+1]:\n",
    "        candies[i] = max(candies[i+1]+1, candies[i])\n",
    "    \n",
    "sum(candies)\n"
   ]
  },
  {
   "cell_type": "markdown",
   "id": "fdfa3d4b",
   "metadata": {},
   "source": [
    "### Best time to buy"
   ]
  },
  {
   "cell_type": "code",
   "execution_count": 141,
   "id": "fde85e69",
   "metadata": {},
   "outputs": [
    {
     "name": "stdout",
     "output_type": "stream",
     "text": [
      "4\n"
     ]
    }
   ],
   "source": [
    "prices = [3,2,6,5,0,3]\n",
    "if len(prices) < 2:\n",
    "    max_profit = 0\n",
    "else:\n",
    "\n",
    "    min_price = prices[0]\n",
    "    max_profit = 0\n",
    "\n",
    "    for price in prices[1:]:\n",
    "        if price < min_price:\n",
    "            min_price = price\n",
    "        else:\n",
    "            profit = price - min_price\n",
    "            if profit > max_profit:\n",
    "                max_profit = profit\n",
    "            \n",
    "print(max_profit)"
   ]
  },
  {
   "cell_type": "markdown",
   "id": "5f3d785e",
   "metadata": {},
   "source": [
    "### Best time to buy II"
   ]
  },
  {
   "cell_type": "code",
   "execution_count": 170,
   "id": "7d59f5ba",
   "metadata": {},
   "outputs": [
    {
     "data": {
      "image/png": "[encoded data removed]",
      "text/plain": [
       "<Figure size 640x480 with 1 Axes>"
      ]
     },
     "metadata": {},
     "output_type": "display_data"
    }
   ],
   "source": [
    "import random\n",
    "import matplotlib.pyplot as plt\n",
    "\n",
    "prices = [random.randint(1, 10) for i in range(10)]\n",
    "days = [i for i in range(10)]\n",
    "plt.plot(days, prices)\n",
    "\n",
    "max_profit = 0\n",
    "for i in range(1, len(prices)):\n",
    "    if prices[i] > prices[i-1]:\n",
    "        max_profit += prices[i] - prices[i-1]"
   ]
  },
  {
   "cell_type": "markdown",
   "id": "fe2f5f70",
   "metadata": {},
   "source": [
    "### Jump game"
   ]
  },
  {
   "cell_type": "code",
   "execution_count": 252,
   "id": "3f44a893",
   "metadata": {},
   "outputs": [
    {
     "name": "stdout",
     "output_type": "stream",
     "text": [
      "[8, 2, 4, 4, 4, 9, 5, 2, 5, 8, 8, 0, 8, 6, 9, 1, 1, 6, 3, 5, 1, 2, 6, 6, 0, 4, 8, 6, 0, 3, 2, 8, 7, 6, 5, 1, 7, 0, 3, 4, 8, 3, 5, 9, 0, 4, 0, 1, 0, 5, 9, 2, 0, 7, 0, 2, 1, 0, 8, 2, 5, 1, 2, 3, 9, 7, 4, 7, 0, 0, 1, 8, 5, 6, 7, 5, 1, 9, 9, 3, 5, 0, 7, 5]\n",
      "2 [8, 2, 4, 4, 4, 9, 5, 2, 5, 8, 8, 0, 8, 6, 9, 1, 1, 6, 3, 5, 1, 2, 6, 6, 0, 4, 8, 6, 0, 3, 2, 8, 7, 6, 5, 1, 7, 0, 3, 4, 8, 3, 5, 9, 0, 4, 0, 1, 0, 5, 9, 2, 0, 7, 0, 2, 1, 0, 8, 2, 5, 1, 2, 3, 9, 7, 4, 7, 0, 0, 1, 8, 5, 6, 7, 5, 1, 9, 9, 3, 5, 0, 7, 5] [8, 2, 4, 4, 4, 9, 5, 2, 5, 8, 8]\n",
      "[8, 6, 9, 1, 1, 6, 3, 5, 1, 2, 6, 6, 0, 4, 8, 6, 0, 3, 2, 8, 7, 6, 5, 1, 7, 0, 3, 4, 8, 3, 5, 9, 0, 4, 0, 1, 0, 5, 9, 2, 0, 7, 0, 2, 1, 0, 8, 2, 5, 1, 2, 3, 9, 7, 4, 7, 0, 0, 1, 8, 5, 6, 7, 5, 1, 9, 9, 3, 5, 0, 7, 5]\n",
      "2 [8, 6, 9, 1, 1, 6, 3, 5, 1, 2, 6, 6, 0, 4, 8, 6, 0, 3, 2, 8, 7, 6, 5, 1, 7, 0, 3, 4, 8, 3, 5, 9, 0, 4, 0, 1, 0, 5, 9, 2, 0, 7, 0, 2, 1, 0, 8, 2, 5, 1, 2, 3, 9, 7, 4, 7, 0, 0, 1, 8, 5, 6, 7, 5, 1, 9, 9, 3, 5, 0, 7, 5] [8, 6, 9, 1, 1, 6, 3, 5, 1, 2, 6, 6]\n",
      "[4, 8, 6, 0, 3, 2, 8, 7, 6, 5, 1, 7, 0, 3, 4, 8, 3, 5, 9, 0, 4, 0, 1, 0, 5, 9, 2, 0, 7, 0, 2, 1, 0, 8, 2, 5, 1, 2, 3, 9, 7, 4, 7, 0, 0, 1, 8, 5, 6, 7, 5, 1, 9, 9, 3, 5, 0, 7, 5]\n",
      "2 [4, 8, 6, 0, 3, 2, 8, 7, 6, 5, 1, 7, 0, 3, 4, 8, 3, 5, 9, 0, 4, 0, 1, 0, 5, 9, 2, 0, 7, 0, 2, 1, 0, 8, 2, 5, 1, 2, 3, 9, 7, 4, 7, 0, 0, 1, 8, 5, 6, 7, 5, 1, 9, 9, 3, 5, 0, 7, 5] [4, 8, 6]\n",
      "[3, 2, 8, 7, 6, 5, 1, 7, 0, 3, 4, 8, 3, 5, 9, 0, 4, 0, 1, 0, 5, 9, 2, 0, 7, 0, 2, 1, 0, 8, 2, 5, 1, 2, 3, 9, 7, 4, 7, 0, 0, 1, 8, 5, 6, 7, 5, 1, 9, 9, 3, 5, 0, 7, 5]\n",
      "2 [3, 2, 8, 7, 6, 5, 1, 7, 0, 3, 4, 8, 3, 5, 9, 0, 4, 0, 1, 0, 5, 9, 2, 0, 7, 0, 2, 1, 0, 8, 2, 5, 1, 2, 3, 9, 7, 4, 7, 0, 0, 1, 8, 5, 6, 7, 5, 1, 9, 9, 3, 5, 0, 7, 5] [3, 2, 8, 7, 6, 5, 1, 7]\n",
      "[3, 4, 8, 3, 5, 9, 0, 4, 0, 1, 0, 5, 9, 2, 0, 7, 0, 2, 1, 0, 8, 2, 5, 1, 2, 3, 9, 7, 4, 7, 0, 0, 1, 8, 5, 6, 7, 5, 1, 9, 9, 3, 5, 0, 7, 5]\n",
      "2 [3, 4, 8, 3, 5, 9, 0, 4, 0, 1, 0, 5, 9, 2, 0, 7, 0, 2, 1, 0, 8, 2, 5, 1, 2, 3, 9, 7, 4, 7, 0, 0, 1, 8, 5, 6, 7, 5, 1, 9, 9, 3, 5, 0, 7, 5] [3, 4, 8, 3, 5, 9]\n",
      "[4, 0, 1, 0, 5, 9, 2, 0, 7, 0, 2, 1, 0, 8, 2, 5, 1, 2, 3, 9, 7, 4, 7, 0, 0, 1, 8, 5, 6, 7, 5, 1, 9, 9, 3, 5, 0, 7, 5]\n",
      "2 [4, 0, 1, 0, 5, 9, 2, 0, 7, 0, 2, 1, 0, 8, 2, 5, 1, 2, 3, 9, 7, 4, 7, 0, 0, 1, 8, 5, 6, 7, 5, 1, 9, 9, 3, 5, 0, 7, 5] [4]\n",
      "[1, 0, 5, 9, 2, 0, 7, 0, 2, 1, 0, 8, 2, 5, 1, 2, 3, 9, 7, 4, 7, 0, 0, 1, 8, 5, 6, 7, 5, 1, 9, 9, 3, 5, 0, 7, 5]\n",
      "2 [1, 0, 5, 9, 2, 0, 7, 0, 2, 1, 0, 8, 2, 5, 1, 2, 3, 9, 7, 4, 7, 0, 0, 1, 8, 5, 6, 7, 5, 1, 9, 9, 3, 5, 0, 7, 5] [1]\n",
      "False\n"
     ]
    }
   ],
   "source": [
    "#My solution\n",
    "nums = [8,2,4,4,4,9,5,2,5,8,8,0,8,6,9,1,1,6,3,5,1,2,6,6,0,4,8,6,0,3,2,8,7,6,5,1,7,0,3,4,8,3,5,9,0,4,0,1,0,5,9,2,0,7,0,2,1,0,8,2,5,1,2,3,9,7,4,7,0,0,1,8,5,6,7,5,1,9,9,3,5,0,7,5]\n",
    "\n",
    "if len(nums) == 1:\n",
    "    out = True\n",
    "elif nums[0] == 0:\n",
    "    out = False\n",
    "else:\n",
    "    out = True\n",
    "    while 0 in nums:\n",
    "        print(nums)\n",
    "        if len(nums) == 1:\n",
    "            out = True\n",
    "            break\n",
    "        zero = nums.index(0)\n",
    "\n",
    "        if sum(nums[zero:]) > 0:\n",
    "            for i in nums[zero:]:\n",
    "                if i > 0:\n",
    "                    min_jump = 1 + nums[zero:].index(i)\n",
    "                    break\n",
    "        else:\n",
    "            min_jump = len(nums[zero:])\n",
    "            \n",
    "        print(min_jump, end=' ')\n",
    "        print(nums, end=' ')\n",
    "        before = nums[:zero]\n",
    "        print(before)\n",
    "\n",
    "        out = False\n",
    "\n",
    "        for i in range(1, len(before)+1, 1):\n",
    "            jump = min_jump+i-1\n",
    "            if before[-i] >= jump:\n",
    "                out = True\n",
    "                nums[:] = nums[zero+min_jump-1:]\n",
    "                break\n",
    "\n",
    "        if out==False:\n",
    "            break"
   ]
  },
  {
   "cell_type": "code",
   "execution_count": 260,
   "id": "44bb6e28",
   "metadata": {},
   "outputs": [
    {
     "name": "stdout",
     "output_type": "stream",
     "text": [
      "0 True\n"
     ]
    }
   ],
   "source": [
    "### Effective solution\n",
    "nums = [0]#[0, 8,2,0, 0, 0, 0, 0, 0, 0, 0, 0, 0, 0, 0, 4,4,4,9,5,2,5,8,8,0,8,6,9,1,1,6,3,5,1,2,6,6,0,4,8,6,0,3,2,8,7,6,5,1,7,0,3,4,8,3,5,9,0,4,0,1,0,5,9,2,0,7,0,2,1,0,8,2,5,1,2,3,9,7,4,7,0,0,1,8,5,6,7,5,1,9,9,3,5,0,7,5]\n",
    "\n",
    "goal = len(nums)-1\n",
    "for i in range(len(nums)-2, -1, -1):\n",
    "    if nums[i] >= goal-i:\n",
    "        goal = i\n",
    "if goal == 0:\n",
    "    out = True\n",
    "else:\n",
    "    out = False\n",
    "print(goal, out)"
   ]
  },
  {
   "cell_type": "code",
   "execution_count": 255,
   "id": "f766aa51",
   "metadata": {},
   "outputs": [
    {
     "data": {
      "text/plain": [
       "0"
      ]
     },
     "execution_count": 255,
     "metadata": {},
     "output_type": "execute_result"
    }
   ],
   "source": [
    "goal"
   ]
  },
  {
   "cell_type": "markdown",
   "id": "6ab1cbf2",
   "metadata": {},
   "source": [
    "### Jump Game II"
   ]
  },
  {
   "cell_type": "code",
   "execution_count": null,
   "id": "9e5de7ac",
   "metadata": {},
   "outputs": [],
   "source": [
    "nums = []\n",
    "goal = len(nums)-1\n",
    "goal_potential = len(nums)-1\n",
    "for i in range(len(nums)-2, -1, -1):\n",
    "    if nums[i] >= goal-i:\n",
    "        goal_potential = i\n",
    "    \n",
    "if goal == 0:\n",
    "    out = True\n",
    "else:\n",
    "    out = False\n",
    "print(goal, out)"
   ]
  },
  {
   "cell_type": "code",
   "execution_count": 17,
   "id": "76ca057a",
   "metadata": {},
   "outputs": [
    {
     "data": {
      "text/plain": [
       "0"
      ]
     },
     "execution_count": 17,
     "metadata": {},
     "output_type": "execute_result"
    }
   ],
   "source": [
    "# My solution - working, but low performance - O(n^^2)\n",
    "nums = [0]\n",
    "goal = len(nums)-1\n",
    "res = 0\n",
    "#check = 1\n",
    "while goal > 0: #and check == 1:\n",
    "    #check = 0\n",
    "    for i in range(len(nums)):\n",
    "        if nums[i] >= goal-i:\n",
    "            goal = i\n",
    "            res += 1\n",
    "            nums[:] = nums[:i]\n",
    "            #check = 1\n",
    "            break\n",
    "res"
   ]
  },
  {
   "cell_type": "code",
   "execution_count": 31,
   "id": "cf4e0c32",
   "metadata": {},
   "outputs": [
    {
     "data": {
      "text/plain": [
       "2"
      ]
     },
     "execution_count": 31,
     "metadata": {},
     "output_type": "execute_result"
    }
   ],
   "source": [
    "# Solution O(N)\n",
    "nums = [2, 3, 1, 1, 4]\n",
    "res = 0\n",
    "r = l = 0 #window what we can reach\n",
    "while r < len(nums)-1: #до тех пор пока не достигнем финального результата\n",
    "    # далее берем максимальный из доступных значений в диапазоне\n",
    "    distance = 0\n",
    "    for i in range(l, r+1):\n",
    "        distance = max(distance, nums[i]+i)\n",
    "    l = r + 1\n",
    "    r = l + distance\n",
    "    res += 1\n",
    "res"
   ]
  },
  {
   "cell_type": "markdown",
   "id": "1842986a",
   "metadata": {},
   "source": [
    "### H-index"
   ]
  },
  {
   "cell_type": "code",
   "execution_count": 33,
   "id": "399d402c",
   "metadata": {},
   "outputs": [
    {
     "name": "stdout",
     "output_type": "stream",
     "text": [
      "[4, 4, 4, 1, 1]\n"
     ]
    },
    {
     "data": {
      "text/plain": [
       "3"
      ]
     },
     "execution_count": 33,
     "metadata": {},
     "output_type": "execute_result"
    }
   ],
   "source": [
    "c = [[3,0,6,1,5], [4, 4, 4, 1, 1], [1,3,1], [100], [100, 100, 100]]\n",
    "citations = c[1]\n",
    "citations.sort(reverse=True)\n",
    "print(citations)\n",
    "res = 0\n",
    "while res < len(citations) and citations[res] >= res+1:\n",
    "    res += 1\n",
    "res"
   ]
  },
  {
   "cell_type": "markdown",
   "id": "d7bdbbad",
   "metadata": {},
   "source": [
    "### Product of Array Except Self"
   ]
  },
  {
   "cell_type": "code",
   "execution_count": 53,
   "id": "7a574167",
   "metadata": {},
   "outputs": [
    {
     "data": {
      "text/plain": [
       "[24, 12, 8, 6]"
      ]
     },
     "execution_count": 53,
     "metadata": {},
     "output_type": "execute_result"
    }
   ],
   "source": [
    "x = [1,2,3,4]\n",
    "y = [1]*len(x)\n",
    "for i in range(len(x)):\n",
    "    y[:i] = [j*x[i] for j in y[:i]]\n",
    "    y[i+1:] = [j*x[i] for j in y[i+1:]]\n",
    "y"
   ]
  },
  {
   "cell_type": "code",
   "execution_count": 70,
   "id": "d349f456",
   "metadata": {},
   "outputs": [
    {
     "name": "stdout",
     "output_type": "stream",
     "text": [
      "[24, 12, 4, 1]\n"
     ]
    }
   ],
   "source": [
    "import math\n",
    "nums = [1,2,3,4]\n",
    "prefix = [1]*len(nums)\n",
    "postfix = [1]*len(nums)\n",
    "for i in range(1, len(x)):\n",
    "    prefix[i] = prefix[i-1]*nums[i-1]\n",
    "for i in range(len(x)-2, -1, -1):\n",
    "    postfix[i] = postfix[i+1]*nums[i+1]\n",
    "print(postfix)\n",
    "nums[:] = [postfix[i]*prefix[i] for i in range(len(x))]"
   ]
  },
  {
   "cell_type": "markdown",
   "id": "f0329760",
   "metadata": {},
   "source": [
    "### Gas station"
   ]
  },
  {
   "cell_type": "code",
   "execution_count": 102,
   "id": "5b4645e7",
   "metadata": {},
   "outputs": [
    {
     "data": {
      "text/plain": [
       "0"
      ]
     },
     "execution_count": 102,
     "metadata": {},
     "output_type": "execute_result"
    }
   ],
   "source": [
    "gas = [0]\n",
    "cost = [0]\n",
    "diff_to_next = [gas[i]-cost[i] for i in range(len(gas))]\n",
    "\n",
    "if sum(diff_to_next) < 0:\n",
    "    res = -1\n",
    "else:\n",
    "    not_negative = [i for i in range(len(diff_to_next)) if diff_to_next[i] > 0]\n",
    "    for x in not_negative:\n",
    "        res = x\n",
    "        dist = diff_to_next[x]\n",
    "        for i in range(len(diff_to_next)-1):\n",
    "            y = (x+i+1)%len(diff_to_next)\n",
    "            dist += diff_to_next[y]\n",
    "            print(y, dist)\n",
    "            if dist < 0:\n",
    "                res = -1\n",
    "                break\n",
    "        if res == x:\n",
    "            break\n",
    "res"
   ]
  },
  {
   "cell_type": "code",
   "execution_count": 105,
   "id": "fe1bce18",
   "metadata": {},
   "outputs": [],
   "source": [
    "gas = [1,2,3,4,5]\n",
    "cost = [3,4,5,1,2]\n",
    "if sum(gas)>=sum(cost):\n",
    "    total = 0\n",
    "    res = 0\n",
    "    for i in range(len(gas)):\n",
    "        total += gas[i] - cost[i]\n",
    "        if total < 0:\n",
    "            total = 0\n",
    "            res = i+1\n",
    "else:\n",
    "    res = -1"
   ]
  },
  {
   "cell_type": "code",
   "execution_count": 106,
   "id": "ed279bd0",
   "metadata": {},
   "outputs": [
    {
     "data": {
      "text/plain": [
       "3"
      ]
     },
     "execution_count": 106,
     "metadata": {},
     "output_type": "execute_result"
    }
   ],
   "source": [
    "res"
   ]
  },
  {
   "cell_type": "markdown",
   "id": "c7535c4f",
   "metadata": {},
   "source": [
    "### Trapping Rain Water"
   ]
  },
  {
   "cell_type": "code",
   "execution_count": 129,
   "id": "8c6c25b1",
   "metadata": {},
   "outputs": [
    {
     "data": {
      "text/plain": [
       "12"
      ]
     },
     "execution_count": 129,
     "metadata": {},
     "output_type": "execute_result"
    }
   ],
   "source": [
    "### My solution\n",
    "h = [[0,1,0,2,1,0,1,3,2,1,2,1], [4,2,0,3,2,5], [0, 0, 0, 0, 0], [0], [500], [0, 3, 1, 2, 1, 0, 3, 0]]\n",
    "height = h[5]\n",
    "l_max = [0]*len(height)\n",
    "r_max = [0]*len(height)\n",
    "min_lr = [0]*len(height)\n",
    "for i in range(0, len(height)-1):\n",
    "    r_max[i] = max(height[i+1:])\n",
    "for i in range(len(height)-1, 0, -1):\n",
    "    l_max[i] = max(height[:i])\n",
    "    min_lr[i] = min(l_max[i], r_max[i])\n",
    "trap = [max(0,min_lr[i]-height[i]) for i in range(len(height))]"
   ]
  },
  {
   "cell_type": "code",
   "execution_count": 137,
   "id": "974d6e7f",
   "metadata": {},
   "outputs": [
    {
     "data": {
      "text/plain": [
       "6"
      ]
     },
     "execution_count": 137,
     "metadata": {},
     "output_type": "execute_result"
    }
   ],
   "source": [
    "#Solution O(1)\n",
    "h = [[0,1,0,2,1,0,1,3,2,1,2,1], [4,2,0,3,2,5], [0, 0, 0, 0, 0], [0], [500], [0, 3, 1, 2, 1, 0, 3, 0]]\n",
    "height = h[0]\n",
    "l, r = 0, len(height)-1\n",
    "leftMax, rightMax = height[l], height[r]\n",
    "res = 0\n",
    "\n",
    "while l<r:\n",
    "    if leftMax < rightMax:\n",
    "        l += 1\n",
    "        leftMax = max(leftMax, height[l])\n",
    "        res += leftMax - height[l]\n",
    "    else:\n",
    "        r -= 1\n",
    "        rightMax = max(rightMax, height[r])\n",
    "        res += rightMax - height[r]\n",
    "        \n",
    "res"
   ]
  },
  {
   "cell_type": "markdown",
   "id": "8874ef52",
   "metadata": {},
   "source": [
    "### Romans to integer"
   ]
  },
  {
   "cell_type": "code",
   "execution_count": 13,
   "id": "e76e0c02",
   "metadata": {},
   "outputs": [
    {
     "data": {
      "text/plain": [
       "1994"
      ]
     },
     "execution_count": 13,
     "metadata": {},
     "output_type": "execute_result"
    }
   ],
   "source": [
    "s = \"MCMXCIV\"\n",
    "num_dict = {\n",
    "    'I': 1,\n",
    "    'V': 5,\n",
    "    'X': 10,\n",
    "    'L': 50,\n",
    "    'C': 100,\n",
    "    'D': 500,\n",
    "    'M': 1000\n",
    "}\n",
    "\n",
    "res = 0\n",
    "for i in range(len(s)-1):\n",
    "    if num_dict[s[i]] > num_dict[s[i+1]]:\n",
    "        res += num_dict[s[i]]\n",
    "    else:\n",
    "        res -= num_dict[s[i]]\n",
    "res += num_dict[s[-1]]\n",
    "res"
   ]
  },
  {
   "cell_type": "markdown",
   "id": "d95aa3cb",
   "metadata": {},
   "source": [
    "### Integers to romans"
   ]
  },
  {
   "cell_type": "code",
   "execution_count": 25,
   "id": "1b3fd80b",
   "metadata": {},
   "outputs": [
    {
     "data": {
      "text/plain": [
       "'MMMCMXCIV'"
      ]
     },
     "execution_count": 25,
     "metadata": {},
     "output_type": "execute_result"
    }
   ],
   "source": [
    "num = 3994\n",
    "num_dict = {\n",
    "    'I': 1,\n",
    "    'IV': 4,\n",
    "    'V': 5,\n",
    "    'IX': 9,\n",
    "    'X': 10,\n",
    "    'XL': 40,\n",
    "    'L': 50,\n",
    "    'XC': 90,\n",
    "    'C': 100,\n",
    "    'CD': 400,\n",
    "    'D': 500,\n",
    "    'CM': 900,\n",
    "    'M': 1000\n",
    "}\n",
    "\n",
    "arr = sorted(num_dict.items(), key=lambda x: x[1], reverse=True)\n",
    "\n",
    "res = ''\n",
    "\n",
    "for t in arr:\n",
    "    res += t[0] *( num//t[1])\n",
    "    num = num%t[1]\n",
    "res"
   ]
  },
  {
   "cell_type": "markdown",
   "id": "dc1069ee",
   "metadata": {},
   "source": [
    "### Length of last word"
   ]
  },
  {
   "cell_type": "code",
   "execution_count": 10,
   "id": "e52de94a",
   "metadata": {},
   "outputs": [
    {
     "data": {
      "text/plain": [
       "4"
      ]
     },
     "execution_count": 10,
     "metadata": {},
     "output_type": "execute_result"
    }
   ],
   "source": [
    "s = \"   fly me   to   the moon  \"\n",
    "s = s.strip()[::-1]\n",
    "if ' ' in set(s):\n",
    "    end = s.index(' ')\n",
    "else:\n",
    "    end = len(s)\n",
    "end"
   ]
  },
  {
   "cell_type": "code",
   "execution_count": 13,
   "id": "c7164c9f",
   "metadata": {},
   "outputs": [
    {
     "data": {
      "text/plain": [
       "1"
      ]
     },
     "execution_count": 13,
     "metadata": {},
     "output_type": "execute_result"
    }
   ],
   "source": [
    "s = \"a\"\n",
    "end = len(s.strip().split()[-1])\n",
    "end"
   ]
  },
  {
   "cell_type": "markdown",
   "id": "ffd5121b",
   "metadata": {},
   "source": [
    "### Longest common prefix"
   ]
  },
  {
   "cell_type": "code",
   "execution_count": 30,
   "id": "d10d0bf0",
   "metadata": {},
   "outputs": [
    {
     "data": {
      "text/plain": [
       "''"
      ]
     },
     "execution_count": 30,
     "metadata": {},
     "output_type": "execute_result"
    }
   ],
   "source": [
    "strs = [\"\"]\n",
    "strs = sorted(strs, key=lambda x: len(x))\n",
    "res = ''\n",
    "for i in range(len(strs[0])):\n",
    "    if all(list(map(lambda x: True if strs[0][i] == x[i] else False, strs))) == True:\n",
    "        res += strs[0][i]\n",
    "    else:\n",
    "        break\n",
    "res"
   ]
  },
  {
   "cell_type": "markdown",
   "id": "7393c5a0",
   "metadata": {},
   "source": [
    "### Reverse word in string"
   ]
  },
  {
   "cell_type": "code",
   "execution_count": 33,
   "id": "75f36e81",
   "metadata": {},
   "outputs": [
    {
     "data": {
      "text/plain": [
       "'example good a'"
      ]
     },
     "execution_count": 33,
     "metadata": {},
     "output_type": "execute_result"
    }
   ],
   "source": [
    "s = 'a good   example'\n",
    "s = ' '.join(s.split()[::-1])\n",
    "s"
   ]
  },
  {
   "cell_type": "markdown",
   "id": "afac69f7",
   "metadata": {},
   "source": [
    "### Zig Zag conversion"
   ]
  },
  {
   "cell_type": "code",
   "execution_count": 17,
   "id": "f28dcced",
   "metadata": {},
   "outputs": [
    {
     "name": "stdout",
     "output_type": "stream",
     "text": [
      "PAHN\n",
      "PAHNALIG\n",
      "PAHNALIGYIR \n",
      "PAHNALIGYIR PSI \n"
     ]
    }
   ],
   "source": [
    "#My attemp\n",
    "from math import ceil\n",
    "s = \"PAYPALISHIRING\" \n",
    "numRows = 3\n",
    "seriesLen = numRows+numRows-2\n",
    "x = ceil(len(s)/seriesLen)\n",
    "res = []\n",
    "for i in range(x):\n",
    "    res.append(s[(seriesLen)*i:(seriesLen)*(i+1)])\n",
    "res[-1] = res[-1].ljust(seriesLen, ' ')\n",
    "\n",
    "sres = ''\n",
    "for i in range(seriesLen):\n",
    "    sres += ''.join(list(map(lambda x: x[i], res)))\n",
    "    print(sres)"
   ]
  },
  {
   "cell_type": "code",
   "execution_count": 24,
   "id": "0c5b170f",
   "metadata": {},
   "outputs": [
    {
     "data": {
      "text/plain": [
       "'PAHNAPLSIIGYIR'"
      ]
     },
     "execution_count": 24,
     "metadata": {},
     "output_type": "execute_result"
    }
   ],
   "source": [
    "#Correct version\n",
    "s = \"PAYPALISHIRING\" \n",
    "numRows = 3\n",
    "\n",
    "if numRows == 1:\n",
    "    res = s\n",
    "\n",
    "res = ''\n",
    "for r in range(numRows):\n",
    "    increment = 2*(numRows-1)\n",
    "    for i in range(r, len(s), increment):\n",
    "        res += s[i]\n",
    "        if (r > 0 and r < numRows-1 and i + increment - 2 * r < len(s)):\n",
    "            res += s[i + increment - 2 * r]\n",
    "            \n",
    "res"
   ]
  },
  {
   "cell_type": "markdown",
   "id": "619eeb46",
   "metadata": {},
   "source": [
    "### First occurence of string"
   ]
  },
  {
   "cell_type": "code",
   "execution_count": 32,
   "id": "6f255144",
   "metadata": {},
   "outputs": [
    {
     "name": "stdout",
     "output_type": "stream",
     "text": [
      "-1\n"
     ]
    }
   ],
   "source": [
    "haystack = \"leetcode\"\n",
    "needle = \"leeto\"\n",
    "if needle in haystack:\n",
    "    k = haystack.index(needle)\n",
    "else:\n",
    "    k = -1\n",
    "print(k)"
   ]
  },
  {
   "cell_type": "markdown",
   "id": "b0fdf322",
   "metadata": {},
   "source": [
    "### Text justification"
   ]
  },
  {
   "cell_type": "code",
   "execution_count": 46,
   "id": "a466f221",
   "metadata": {},
   "outputs": [
    {
     "name": "stdout",
     "output_type": "stream",
     "text": [
      "This  is an\n",
      "11\n",
      "This  is  an\n",
      "12\n",
      "12\n",
      "This   is  an\n",
      "13\n",
      "This   is   an\n",
      "14\n",
      "14\n",
      "This    is   an\n",
      "15\n",
      "This    is    an\n",
      "16\n",
      "example  of text\n",
      "16\n"
     ]
    },
    {
     "data": {
      "text/plain": [
       "['This    is    an', 'example  of text', 'justification.  ']"
      ]
     },
     "execution_count": 46,
     "metadata": {},
     "output_type": "execute_result"
    }
   ],
   "source": [
    "# My solution - not effective\n",
    "words = [\"This\", \"is\", \"an\", \"example\", \"of\", \"text\", \"justification.\"]\n",
    "maxWidth = 16\n",
    "actualString = words[0]\n",
    "actualWidth = len(actualString)\n",
    "res = []\n",
    "\n",
    "for i in range(1, len(words)):\n",
    "    if actualWidth+len(words[i])+1 <= maxWidth:\n",
    "        actualString += ' ' + words[i]\n",
    "        actualWidth = len(actualString)\n",
    "    else:\n",
    "        actualList = list(actualString)\n",
    "        spaces = ' '\n",
    "        while len(actualString) < maxWidth:\n",
    "            if spaces in actualList:\n",
    "                #actualList = list(actualString)\n",
    "                actualList[actualList.index(spaces)] = spaces + ' '\n",
    "                actualString = ''.join(actualList)\n",
    "                print(actualString)\n",
    "            else:\n",
    "                spaces = spaces + ' '\n",
    "            print(len(actualString))\n",
    "        res.append(actualString)\n",
    "        actualString = words[i]\n",
    "        actualWidth = len(actualString)\n",
    "res.append(actualString.ljust(maxWidth))\n",
    "res"
   ]
  },
  {
   "cell_type": "markdown",
   "id": "6dbcb0ce",
   "metadata": {},
   "source": [
    "### Valid Palindrome"
   ]
  },
  {
   "cell_type": "code",
   "execution_count": 19,
   "id": "71279c34",
   "metadata": {},
   "outputs": [
    {
     "name": "stdout",
     "output_type": "stream",
     "text": [
      "False\n"
     ]
    }
   ],
   "source": [
    "from math import floor\n",
    "s = \"race a car\"\n",
    "s = s.lower()\n",
    "s = ''.join(list(filter(lambda x: x.isalnum(), s)))\n",
    "res = True\n",
    "for i in range(floor(len(s)/2)):\n",
    "    if s[i] != s[-i-1]:\n",
    "        res = False\n",
    "        break\n",
    "print(res)\n"
   ]
  },
  {
   "cell_type": "markdown",
   "id": "2df35216",
   "metadata": {},
   "source": [
    "### Is subsequence"
   ]
  },
  {
   "cell_type": "code",
   "execution_count": 37,
   "id": "68d824f2",
   "metadata": {},
   "outputs": [
    {
     "name": "stdout",
     "output_type": "stream",
     "text": [
      "['a', 'a', 'a']\n",
      "['a', 'a']\n",
      "['a']\n",
      "[]\n",
      "False\n"
     ]
    }
   ],
   "source": [
    "s = \"aaaaaa\"\n",
    "t = \"baaaa\"\n",
    "t = list(t)\n",
    "res = True\n",
    "for c in s:\n",
    "    if c in t:\n",
    "        t[:] = t[t.index(c)+1:]\n",
    "    else:\n",
    "        res = False\n",
    "        break\n",
    "print(res)"
   ]
  },
  {
   "cell_type": "markdown",
   "id": "7bdbc88c",
   "metadata": {},
   "source": [
    "### Two Sum II - Input Array Is Sorted"
   ]
  },
  {
   "cell_type": "code",
   "execution_count": 42,
   "id": "e1fab389",
   "metadata": {},
   "outputs": [
    {
     "name": "stdout",
     "output_type": "stream",
     "text": [
      "1 3\n"
     ]
    }
   ],
   "source": [
    "### Timeout exceeded (when len(numbers) is huge)\n",
    "numbers = [2,3,4]\n",
    "target = 6\n",
    "left_pointer = 0\n",
    "right_pointer = 1\n",
    "summa = 0\n",
    "while summa != target:\n",
    "    summa = numbers[left_pointer] + numbers[right_pointer]\n",
    "    if summa < target and right_pointer < len(numbers)-1:\n",
    "        right_pointer += numbers[::-1].index(numbers[right_pointer])\n",
    "    elif summa > target or (summa < target and right_pointer == len(numbers)-1):\n",
    "        left_pointer += 1\n",
    "        right_pointer = left_pointer + 1\n",
    "print(left_pointer + 1, right_pointer + 1)"
   ]
  },
  {
   "cell_type": "code",
   "execution_count": 43,
   "id": "daec1157",
   "metadata": {},
   "outputs": [
    {
     "data": {
      "text/plain": [
       "[1, 3]"
      ]
     },
     "execution_count": 43,
     "metadata": {},
     "output_type": "execute_result"
    }
   ],
   "source": [
    "### Correct version\n",
    "numbers = [2,3,4]\n",
    "target = 6\n",
    "p1, p2 = 0, 1;\n",
    "while not (numbers[p1] + numbers[p2] == target):\n",
    "    if numbers[p1] + numbers[p2] < target:\n",
    "        p2+=1;\n",
    "        p1+=1;\n",
    "    else:\n",
    "        p1-=1; \n",
    "[p1+1, p2+1]"
   ]
  },
  {
   "cell_type": "markdown",
   "id": "78c4a4ac",
   "metadata": {},
   "source": [
    "### Container with most water"
   ]
  },
  {
   "cell_type": "code",
   "execution_count": 47,
   "id": "4f6bbf40",
   "metadata": {},
   "outputs": [
    {
     "name": "stdout",
     "output_type": "stream",
     "text": [
      "1 6 15\n",
      "2 6 16\n",
      "3 6 15\n",
      "4 6 12\n",
      "4 5 17\n",
      "4 4 0\n"
     ]
    },
    {
     "data": {
      "text/plain": [
       "17"
      ]
     },
     "execution_count": 47,
     "metadata": {},
     "output_type": "execute_result"
    }
   ],
   "source": [
    "height = [2,3,4,5,18,17,6]\n",
    "l = 0\n",
    "r = len(height)-1\n",
    "max_volume = (r-l)*min(height[l], height[r])\n",
    "while l != r:\n",
    "    if height[r] <= height[l]:\n",
    "        r -= 1\n",
    "    else:\n",
    "        l += 1\n",
    "    volume = (r-l)*min(height[l], height[r])\n",
    "    print(l, r, volume)\n",
    "    if volume > max_volume:\n",
    "        max_volume = volume\n",
    "    \n",
    "max_volume"
   ]
  },
  {
   "cell_type": "markdown",
   "id": "ccbcba45",
   "metadata": {},
   "source": [
    "### 3Sum"
   ]
  },
  {
   "cell_type": "code",
   "execution_count": 51,
   "id": "c99310a8",
   "metadata": {},
   "outputs": [
    {
     "data": {
      "text/plain": [
       "[(-1, 0, 1), (-1, -1, 2)]"
      ]
     },
     "execution_count": 51,
     "metadata": {},
     "output_type": "execute_result"
    }
   ],
   "source": [
    "### Correct solution\n",
    "target = 0\n",
    "nums.sort()\n",
    "s = set()\n",
    "output = []\n",
    "for i in range(len(nums)):\n",
    "    j = i + 1\n",
    "    k = len(nums) - 1\n",
    "    while j < k:\n",
    "        sum = nums[i] + nums[j] + nums[k]\n",
    "        if sum == target:\n",
    "            s.add((nums[i], nums[j], nums[k]))\n",
    "            j += 1\n",
    "            k -= 1\n",
    "        elif sum < target:\n",
    "            j += 1\n",
    "        else:\n",
    "            k -= 1\n",
    "output = list(s)\n",
    "output"
   ]
  },
  {
   "cell_type": "code",
   "execution_count": null,
   "id": "27dda38c",
   "metadata": {},
   "outputs": [],
   "source": []
  }
 ],
 "metadata": {
  "kernelspec": {
   "display_name": "Python 3 (ipykernel)",
   "language": "python",
   "name": "python3"
  },
  "language_info": {
   "codemirror_mode": {
    "name": "ipython",
    "version": 3
   },
   "file_extension": ".py",
   "mimetype": "text/x-python",
   "name": "python",
   "nbconvert_exporter": "python",
   "pygments_lexer": "ipython3",
   "version": "3.10.9"
  }
 },
 "nbformat": 4,
 "nbformat_minor": 5
}
