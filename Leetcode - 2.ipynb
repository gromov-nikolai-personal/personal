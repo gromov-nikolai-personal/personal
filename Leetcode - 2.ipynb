{
 "cells": [
  {
   "cell_type": "markdown",
   "id": "aa8e196d",
   "metadata": {},
   "source": [
    "### Minimum Size Subarray Sum"
   ]
  },
  {
   "cell_type": "code",
   "execution_count": 13,
   "id": "75f786be",
   "metadata": {},
   "outputs": [
    {
     "name": "stdout",
     "output_type": "stream",
     "text": [
      "2\n"
     ]
    }
   ],
   "source": [
    "#my solution - fails time limit\n",
    "test = [[2,3,1,2,4,3], [1,4,4], [1,1,1,1,1,1,1,1]]\n",
    "targets = [7, 4, 11]\n",
    "i = 0\n",
    "nums = test[i]\n",
    "target = targets[i]\n",
    "\n",
    "if sum(nums) < target:\n",
    "    res = 0\n",
    "elif sum(nums) < target:\n",
    "    res = len(nums)\n",
    "else:\n",
    "    res = 0\n",
    "    max_len = len(nums)\n",
    "    \n",
    "    #solving Time Limit Exceeded error - calculate min numbers to beat the target\n",
    "    nums_sorted = sorted(nums, reverse=True)\n",
    "    for min_len in range(1, max_len):\n",
    "        if sum(nums_sorted[0:min_len]) >= target:\n",
    "            break\n",
    "    \n",
    "    for i in range(min_len, max_len+1):\n",
    "        for j in range(0, max_len+1-i):\n",
    "            if sum(nums[j:j+i]) >= target:\n",
    "                res = i\n",
    "                break\n",
    "        if res >= 1:\n",
    "            break\n",
    "print(res)"
   ]
  },
  {
   "cell_type": "code",
   "execution_count": 17,
   "id": "c6a84ab8",
   "metadata": {},
   "outputs": [
    {
     "name": "stdout",
     "output_type": "stream",
     "text": [
      "2\n"
     ]
    }
   ],
   "source": [
    "#my solution after clue - still not working\n",
    "test = [[2,3,1,2,4,3], [1,4,4], [1,1,1,1,1,1,1,1]]\n",
    "targets = [7, 4, 11]\n",
    "i = 0\n",
    "nums = test[i]\n",
    "target = targets[i]\n",
    "\n",
    "if sum(nums) < target:\n",
    "    res = 0\n",
    "elif sum(nums) < target:\n",
    "    res = len(nums)\n",
    "else:\n",
    "    res = 0\n",
    "    max_len = len(nums)\n",
    "    \n",
    "    for i in range(max_len):\n",
    "        for j in range(1, max_len+1-i):\n",
    "            if sum(nums[i:i+j]) >= target or (j == res and res > 0):\n",
    "                res = j\n",
    "                break\n",
    "print(res)"
   ]
  },
  {
   "cell_type": "code",
   "execution_count": 19,
   "id": "432bc31d",
   "metadata": {},
   "outputs": [
    {
     "name": "stdout",
     "output_type": "stream",
     "text": [
      "2\n"
     ]
    }
   ],
   "source": [
    "# correct solution\n",
    "start = 0\n",
    "end = 0\n",
    "min_length = float('inf')\n",
    "n = len(nums)\n",
    "curr_sum = 0\n",
    "while end<n:\n",
    "    curr_sum+= nums[end]\n",
    "\n",
    "    while curr_sum >= target:\n",
    "        min_length = min(min_length,end-start+1)\n",
    "        curr_sum -=nums[start]\n",
    "        start+=1\n",
    "    end+=1\n",
    "if min_length != float('inf'):\n",
    "    res = min_length\n",
    "else:\n",
    "    res = 0\n",
    "print(res)"
   ]
  },
  {
   "cell_type": "markdown",
   "id": "19248bbf",
   "metadata": {},
   "source": [
    "### Longest Substring Without Repeating Characters"
   ]
  },
  {
   "cell_type": "code",
   "execution_count": 42,
   "id": "dab5a636",
   "metadata": {},
   "outputs": [
    {
     "name": "stdout",
     "output_type": "stream",
     "text": [
      "6\n",
      "pw\n",
      "2\n",
      "pww\n",
      "2\n",
      "wwk\n",
      "2\n",
      "wke\n",
      "3\n",
      "wkew\n",
      "3\n"
     ]
    }
   ],
   "source": [
    "#my solution - working\n",
    "test = [\"abcabcbb\", \"bbbbb\", \"pwwkew\", \"au\"]\n",
    "i = 2\n",
    "s = test[i]\n",
    "\n",
    "if len(s) == 0:\n",
    "    res = 0\n",
    "else:\n",
    "    res = 1\n",
    "    n = len(s)\n",
    "    print(n)\n",
    "\n",
    "    i = 0\n",
    "    test_len = res\n",
    "    while i < n:\n",
    "        test_len = res+1\n",
    "        if len(s[i:n]) <= res:\n",
    "            break\n",
    "        print(s[i:i+test_len])\n",
    "        if len(s[i:i+test_len]) == len(set(s[i:i+test_len])):\n",
    "            res = test_len\n",
    "        else:\n",
    "            i += 1\n",
    "        print(res)"
   ]
  },
  {
   "cell_type": "markdown",
   "id": "5bbc4664",
   "metadata": {},
   "source": [
    "### Valid sudoku"
   ]
  },
  {
   "cell_type": "code",
   "execution_count": 102,
   "id": "909548b9",
   "metadata": {},
   "outputs": [
    {
     "name": "stdout",
     "output_type": "stream",
     "text": [
      "True\n"
     ]
    }
   ],
   "source": [
    "#my solution\n",
    "test = [[[\"5\",\"3\",\".\",\".\",\"7\",\".\",\".\",\".\",\".\"]\n",
    "        ,[\"6\",\".\",\".\",\"1\",\"9\",\"5\",\".\",\".\",\".\"]\n",
    "        ,[\".\",\"9\",\"8\",\".\",\".\",\".\",\".\",\"6\",\".\"]\n",
    "        ,[\"8\",\".\",\".\",\".\",\"6\",\".\",\".\",\".\",\"3\"]\n",
    "        ,[\"4\",\".\",\".\",\"8\",\".\",\"3\",\".\",\".\",\"1\"]\n",
    "        ,[\"7\",\".\",\".\",\".\",\"2\",\".\",\"2\",\".\",\"6\"]\n",
    "        ,[\".\",\"6\",\".\",\".\",\".\",\".\",\"2\",\"8\",\".\"]\n",
    "        ,[\".\",\".\",\".\",\"4\",\"1\",\"9\",\".\",\".\",\"5\"]\n",
    "        ,[\".\",\".\",\".\",\".\",\"8\",\".\",\".\",\"7\",\"9\"]],\n",
    "       [[\".\",\".\",\".\",\".\",\"5\",\".\",\".\",\"1\",\".\"]\n",
    "        ,[\".\",\"4\",\".\",\"3\",\".\",\".\",\".\",\".\",\".\"]\n",
    "        ,[\".\",\".\",\".\",\".\",\".\",\"3\",\".\",\".\",\"1\"]\n",
    "        ,[\"8\",\".\",\".\",\".\",\".\",\".\",\".\",\"2\",\".\"]\n",
    "        ,[\".\",\".\",\"2\",\".\",\"7\",\".\",\".\",\".\",\".\"]\n",
    "        ,[\".\",\"1\",\"5\",\".\",\".\",\".\",\".\",\".\",\".\"]\n",
    "        ,[\".\",\".\",\".\",\".\",\".\",\"2\",\".\",\".\",\".\"]\n",
    "        ,[\".\",\"2\",\".\",\"9\",\".\",\".\",\".\",\".\",\".\"]\n",
    "        ,[\".\",\".\",\"4\",\".\",\".\",\".\",\".\",\".\",\".\"]],\n",
    "       [[\".\",\".\",\".\",\".\",\".\",\".\",\".\",\".\",\".\"]\n",
    "        ,[\".\",\".\",\".\",\".\",\".\",\".\",\".\",\".\",\".\"]\n",
    "        ,[\".\",\".\",\".\",\".\",\".\",\".\",\".\",\".\",\".\"]\n",
    "        ,[\".\",\".\",\".\",\".\",\".\",\".\",\".\",\".\",\".\"]\n",
    "        ,[\".\",\".\",\".\",\".\",\".\",\".\",\".\",\".\",\".\"]\n",
    "        ,[\".\",\".\",\".\",\".\",\".\",\".\",\".\",\".\",\".\"]\n",
    "        ,[\".\",\".\",\".\",\".\",\".\",\".\",\".\",\".\",\".\"]\n",
    "        ,[\".\",\".\",\".\",\".\",\".\",\".\",\".\",\".\",\".\"]\n",
    "        ,[\".\",\".\",\".\",\".\",\".\",\".\",\".\",\".\",\".\"]]]\n",
    "i = 2\n",
    "board = test[i]\n",
    "\n",
    "column = [[x[i] for x in board if x[i]!='.'] for i in range(0,9)]\n",
    "grid = [[board[i][j] for i in range(k[0], k[1]) for j in range(h[0], h[1])] for k in [[0, 3], [3, 6], [6, 9]] for h in [[0, 3], [3, 6], [6, 9]]]\n",
    "board = [[x[i]  for i in range(0,9) if x[i]!='.'] for x in board]\n",
    "grid = [[x[i]  for i in range(0,9) if x[i]!='.'] for x in grid]\n",
    "board = board + column + grid\n",
    "\n",
    "res = True\n",
    "for i in range(len(board)):\n",
    "    if len(board[i]) != len(set(board[i])):\n",
    "        res = False\n",
    "        break\n",
    "\n",
    "print(res)"
   ]
  },
  {
   "cell_type": "markdown",
   "id": "7bb88b9e",
   "metadata": {},
   "source": [
    "### Spiral Matrix"
   ]
  },
  {
   "cell_type": "code",
   "execution_count": 127,
   "id": "30ce85d8",
   "metadata": {},
   "outputs": [
    {
     "name": "stdout",
     "output_type": "stream",
     "text": [
      "[[1, 2, 3, 4], [5, 6, 7, 8], [9, 10, 11, 12], [13, 14, 15, 16]]\n",
      "[[5, 6, 7, 8], [9, 10, 11, 12], [13, 14, 15, 16]]\n",
      "[[5, 6, 7], [9, 10, 11], [13, 14, 15]]\n",
      "[[5, 6, 7], [9, 10, 11]]\n",
      "[[6, 7], [10, 11]]\n",
      "[[10, 11]]\n",
      "[[10]]\n"
     ]
    },
    {
     "data": {
      "text/plain": [
       "[1, 2, 3, 4, 8, 12, 16, 15, 14, 13, 9, 5, 6, 7, 11, 10]"
      ]
     },
     "execution_count": 127,
     "metadata": {},
     "output_type": "execute_result"
    }
   ],
   "source": [
    "matrices = [[[1,2,3,4],[5,6,7,8],[9,10,11,12]],\n",
    "           [[1],[2],[3],[4],[5],[6],[7],[8],[9],[10]],\n",
    "           [[1,2,3,4],[5,6,7,8],[9,10,11,12],[13,14,15,16]]]\n",
    "\n",
    "matrix = matrices[2]\n",
    "\n",
    "\n",
    "sm = []\n",
    "#dest 1 - right, 2 - down, 3 - left, 4 - up\n",
    "dest = 1\n",
    "\n",
    "while matrix != [] and matrix[0] != []:\n",
    "    print(matrix)\n",
    "    if dest == 1:\n",
    "        sm += matrix.pop(0)\n",
    "        dest = 2\n",
    "    elif dest == 2:\n",
    "        for i in range(len(matrix)):\n",
    "            sm.append(matrix[i].pop(-1))\n",
    "        dest = 3\n",
    "    elif dest == 3:\n",
    "        sm += matrix.pop(-1)[::-1]\n",
    "        dest = 4\n",
    "    elif dest == 4:\n",
    "        for i in range(len(matrix)-1, -1, -1):\n",
    "            sm.append(matrix[i].pop(0))\n",
    "        dest = 1\n",
    "\n",
    "sm"
   ]
  },
  {
   "cell_type": "markdown",
   "id": "e5c35fcd",
   "metadata": {},
   "source": [
    "### Rotate Image"
   ]
  },
  {
   "cell_type": "code",
   "execution_count": 130,
   "id": "6f538dea",
   "metadata": {},
   "outputs": [
    {
     "data": {
      "text/plain": [
       "[[15, 13, 2, 5], [14, 3, 4, 1], [12, 6, 8, 9], [16, 7, 10, 11]]"
      ]
     },
     "execution_count": 130,
     "metadata": {},
     "output_type": "execute_result"
    }
   ],
   "source": [
    "matrix = [[5,1,9,11],[2,4,8,10],[13,3,6,7],[15,14,12,16]]\n",
    "matrix[:] = [[matrix[i][j] for i in range(len(matrix)-1, -1, -1)] for j in range(0, len(matrix[0]))]\n",
    "matrix"
   ]
  },
  {
   "cell_type": "markdown",
   "id": "fe9f376a",
   "metadata": {},
   "source": [
    "### Set matrix zeros"
   ]
  },
  {
   "cell_type": "code",
   "execution_count": 16,
   "id": "e311bab9",
   "metadata": {},
   "outputs": [
    {
     "data": {
      "text/plain": [
       "[[0], [0]]"
      ]
     },
     "execution_count": 16,
     "metadata": {},
     "output_type": "execute_result"
    }
   ],
   "source": [
    "matrix_arr = [[[0,1,2,0],[3,4,5,2],[1,3,1,5]], [[0],[1]]]\n",
    "matrix = matrix_arr[1]\n",
    "rows = []\n",
    "columns = []\n",
    "all_zeros = 0\n",
    "for i in range(len(matrix)):\n",
    "    if sum(matrix[i]) == 0:\n",
    "        all_zeros = 1\n",
    "        break\n",
    "    if 0 in matrix[i]:\n",
    "        rows.append(i)\n",
    "        for j in range(len(matrix[i])):\n",
    "            if matrix[i][j] == 0:\n",
    "                columns.append(j)\n",
    "                \n",
    "rows = list(set(rows))\n",
    "columns = list(set(columns))\n",
    "if all_zeros == 1:\n",
    "    matrix[:] = [[0 for j in range(len(matrix[0]))] for i in range(len(matrix))]\n",
    "else:\n",
    "    matrix[:] = [[0 if j in columns or i in rows else matrix[i][j] for j in range(len(matrix[0]))] for i in range(len(matrix))]\n",
    "matrix"
   ]
  },
  {
   "cell_type": "markdown",
   "id": "3b14ba10",
   "metadata": {},
   "source": [
    "### Game of Life"
   ]
  },
  {
   "cell_type": "code",
   "execution_count": 31,
   "id": "e94161c4",
   "metadata": {},
   "outputs": [
    {
     "data": {
      "text/plain": [
       "[[0, 0]]"
      ]
     },
     "execution_count": 31,
     "metadata": {},
     "output_type": "execute_result"
    }
   ],
   "source": [
    "#not top-performing (actually not low-performing), but readable\n",
    "boards = [[[0,1,0],[0,0,1],[1,1,1],[0,0,0]],\n",
    "         [[1,1],[1,0]],\n",
    "         [[1,1]]]\n",
    "board = boards[2]\n",
    "\n",
    "def neigh_num(i, j):\n",
    "    nn = 0\n",
    "    if i != 0:\n",
    "        nn += board[i-1][j]\n",
    "        if j != 0:\n",
    "            nn += board[i-1][j-1] \n",
    "        if j != len(board[0])-1:\n",
    "            nn += board[i-1][j+1]\n",
    "\n",
    "    if j!= 0:\n",
    "        nn += board[i][j-1]\n",
    "    if j!= len(board[0])-1:\n",
    "        nn += board[i][j+1]\n",
    "\n",
    "    if i != len(board)-1:\n",
    "        nn += board[i+1][j]\n",
    "        if j != 0:\n",
    "            nn += board[i+1][j-1] \n",
    "        if j != len(board[0])-1:\n",
    "            nn += board[i+1][j+1]\n",
    "    \n",
    "    return nn\n",
    "\n",
    "def new_state(el, nn):\n",
    "    if nn < 2:\n",
    "        el = 0\n",
    "    elif nn == 3:\n",
    "        el = 1\n",
    "    elif nn > 3:\n",
    "        el = 0\n",
    "    \n",
    "    return el\n",
    "\n",
    "board_count = [[neigh_num(i, j) for j in range(len(board[0]))] for i in range(len(board))]\n",
    "board[:] = [[new_state(board[i][j], neigh_num(i, j)) for j in range(len(board[0]))] for i in range(len(board))]\n",
    "board"
   ]
  },
  {
   "cell_type": "markdown",
   "id": "ed6819fd",
   "metadata": {},
   "source": [
    "### Ransom note"
   ]
  },
  {
   "cell_type": "code",
   "execution_count": 47,
   "id": "e9053e23",
   "metadata": {},
   "outputs": [
    {
     "data": {
      "text/plain": [
       "0"
      ]
     },
     "execution_count": 47,
     "metadata": {},
     "output_type": "execute_result"
    }
   ],
   "source": [
    "ransomNote = \" \"\n",
    "magazine = \"\"\n",
    "\n",
    "res = 1\n",
    "magazine_dict = {x:magazine.count(x) for x in magazine}\n",
    "ransomNote_dict = {x:ransomNote.count(x) for x in ransomNote}\n",
    "for x in ransomNote_dict:\n",
    "    if x in magazine_dict:\n",
    "        if magazine_dict[x] >= ransomNote_dict[x]:\n",
    "            pass\n",
    "        else:\n",
    "            res = 0\n",
    "    else:\n",
    "        res = 0\n",
    "        break\n",
    "res"
   ]
  },
  {
   "cell_type": "markdown",
   "id": "bfa500f4",
   "metadata": {},
   "source": [
    "### Isomorphic string"
   ]
  },
  {
   "cell_type": "code",
   "execution_count": 60,
   "id": "96b20394",
   "metadata": {},
   "outputs": [
    {
     "data": {
      "text/plain": [
       "1"
      ]
     },
     "execution_count": 60,
     "metadata": {},
     "output_type": "execute_result"
    }
   ],
   "source": [
    "s = \"paper\"\n",
    "t = \"title\"\n",
    "s = list(s)\n",
    "t = list(t)\n",
    "sn = s.copy()\n",
    "tn = t.copy()\n",
    "letter_dict = dict(zip(s, t))\n",
    "for i in range(len(s)):\n",
    "    sn[i] = letter_dict[s[i]]\n",
    "if sn == t:\n",
    "    letter_dict = dict(zip(t, s))\n",
    "    for i in range(len(t)):\n",
    "        tn[i] = letter_dict[t[i]]\n",
    "    if s == tn:\n",
    "        res = 1\n",
    "    else:\n",
    "        res = 0\n",
    "else:\n",
    "    res = 0\n",
    "res"
   ]
  },
  {
   "cell_type": "markdown",
   "id": "301366b5",
   "metadata": {},
   "source": [
    "### Word pattern"
   ]
  },
  {
   "cell_type": "code",
   "execution_count": 76,
   "id": "dc77334f",
   "metadata": {},
   "outputs": [
    {
     "data": {
      "text/plain": [
       "0"
      ]
     },
     "execution_count": 76,
     "metadata": {},
     "output_type": "execute_result"
    }
   ],
   "source": [
    "pattern = \"jquery\"\n",
    "s = \"jquery\"\n",
    "mn = list(pattern)\n",
    "tn = s.split(' ')\n",
    "m = list(pattern)\n",
    "t = s.split(' ')\n",
    "if len(m) != len(t):\n",
    "    res = 0\n",
    "else:\n",
    "    letter_dict = dict(zip(m, t))\n",
    "    for i in range(len(m)):\n",
    "        rn[i] = letter_dict[m[i]]\n",
    "    if mn == t:\n",
    "        letter_dict = dict(zip(t, m))\n",
    "        for i in range(len(t)):\n",
    "            tn[i] = letter_dict[t[i]]\n",
    "        if m == tn:\n",
    "            res = 1\n",
    "        else:\n",
    "            res = 0\n",
    "    else:\n",
    "        res = 0\n",
    "    \n",
    "res"
   ]
  },
  {
   "cell_type": "markdown",
   "id": "70622492",
   "metadata": {},
   "source": [
    "### Valid Anagram"
   ]
  },
  {
   "cell_type": "code",
   "execution_count": 84,
   "id": "a2f30ef6",
   "metadata": {},
   "outputs": [
    {
     "data": {
      "text/plain": [
       "0"
      ]
     },
     "execution_count": 84,
     "metadata": {},
     "output_type": "execute_result"
    }
   ],
   "source": [
    "# s = \"anagram\"\n",
    "# t = \"nagaram\"\n",
    "s = \"ab\"\n",
    "t = \"a\"\n",
    "\n",
    "if len(s) == len(t):\n",
    "    res = 1\n",
    "    s_dict = {x:s.count(x) for x in s}\n",
    "    t_dict = {x:t.count(x) for x in t}\n",
    "    print(s_dict)\n",
    "    print(t_dict)\n",
    "    for x in t_dict:\n",
    "        if x in s_dict:\n",
    "            if s_dict[x] == t_dict[x]:\n",
    "                pass\n",
    "            else:\n",
    "                res = 0\n",
    "                break\n",
    "        else:\n",
    "            res = 0\n",
    "            break\n",
    "else:\n",
    "    res = 0\n",
    "res"
   ]
  },
  {
   "cell_type": "markdown",
   "id": "2ed5c887",
   "metadata": {},
   "source": [
    "### Group Anagrams"
   ]
  },
  {
   "cell_type": "code",
   "execution_count": 97,
   "id": "a43584ed",
   "metadata": {},
   "outputs": [
    {
     "name": "stdout",
     "output_type": "stream",
     "text": [
      "[{'e': 1, 'a': 1, 't': 1}, {'t': 1, 'e': 1, 'a': 1}, {'t': 1, 'a': 1, 'n': 1}, {'a': 1, 't': 1, 'e': 1}, {'n': 1, 'a': 1, 't': 1}, {'b': 1, 'a': 1, 't': 1}]\n",
      "[{'e': 1, 'a': 1, 't': 1}, {'t': 1, 'a': 1, 'n': 1}, {'b': 1, 'a': 1, 't': 1}]\n",
      "[['eat', 'tea', 'ate'], ['tan', 'nat'], ['bat']]\n"
     ]
    }
   ],
   "source": [
    "strs = [\"eat\",\"tea\",\"tan\",\"ate\",\"nat\",\"bat\"]\n",
    "s_map = [{x:strs[i].count(x) for x in strs[i]} for i in range(len(strs))]\n",
    "#print(s_map)\n",
    "s_map_uniq = []\n",
    "for i in range(len(s_map)):\n",
    "    if s_map[i] not in s_map_uniq:\n",
    "        s_map_uniq.append(s_map[i])\n",
    "#print(s_map_uniq)\n",
    "res = []\n",
    "for x in s_map_uniq:\n",
    "    temp = []\n",
    "    for i in range(len(strs)):\n",
    "        if s_map[i] == x:\n",
    "            temp.append(strs[i])\n",
    "    res.append(temp)\n",
    "#print(res)"
   ]
  },
  {
   "cell_type": "code",
   "execution_count": null,
   "id": "4ed6604f",
   "metadata": {},
   "outputs": [],
   "source": []
  }
 ],
 "metadata": {
  "kernelspec": {
   "display_name": "Python 3 (ipykernel)",
   "language": "python",
   "name": "python3"
  },
  "language_info": {
   "codemirror_mode": {
    "name": "ipython",
    "version": 3
   },
   "file_extension": ".py",
   "mimetype": "text/x-python",
   "name": "python",
   "nbconvert_exporter": "python",
   "pygments_lexer": "ipython3",
   "version": "3.10.9"
  }
 },
 "nbformat": 4,
 "nbformat_minor": 5
}
